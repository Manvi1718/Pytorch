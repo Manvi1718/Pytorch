{
  "nbformat": 4,
  "nbformat_minor": 0,
  "metadata": {
    "colab": {
      "provenance": [],
      "gpuType": "T4",
      "authorship_tag": "ABX9TyNAp+zcCxKn4HgcKiRYzeDG",
      "include_colab_link": true
    },
    "kernelspec": {
      "name": "python3",
      "display_name": "Python 3"
    },
    "language_info": {
      "name": "python"
    }
  },
  "cells": [
    {
      "cell_type": "markdown",
      "metadata": {
        "id": "view-in-github",
        "colab_type": "text"
      },
      "source": [
        "<a href=\"https://colab.research.google.com/github/Manvi1718/Pytorch/blob/main/PYTORCH_Workflow.ipynb\" target=\"_parent\"><img src=\"https://colab.research.google.com/assets/colab-badge.svg\" alt=\"Open In Colab\"/></a>"
      ]
    },
    {
      "cell_type": "markdown",
      "source": [
        "#**PyTorch**"
      ],
      "metadata": {
        "id": "bDgpsUZK9RT0"
      }
    },
    {
      "cell_type": "markdown",
      "source": [
        "##What we are covering\n",
        "\n",
        "* Data\n",
        "* Build Model\n",
        "* Fitting the model to data(training)\n",
        "* Making predictions and evaluating model(inference)\n",
        "* Saving and Loading a model\n",
        "* Putting it all together"
      ],
      "metadata": {
        "id": "8OVFj0xh9elO"
      }
    },
    {
      "cell_type": "code",
      "execution_count": null,
      "metadata": {
        "id": "_qhvC4SOqGye",
        "colab": {
          "base_uri": "https://localhost:8080/",
          "height": 36
        },
        "outputId": "12aeb2a0-a0ed-4291-cd7d-55f805da32cd"
      },
      "outputs": [
        {
          "output_type": "execute_result",
          "data": {
            "text/plain": [
              "'2.0.1+cu118'"
            ],
            "application/vnd.google.colaboratory.intrinsic+json": {
              "type": "string"
            }
          },
          "metadata": {},
          "execution_count": 1
        }
      ],
      "source": [
        "import torch\n",
        "from torch import nn # nn contains all of building blocks for neural networks\n",
        "import matplotlib.pyplot as plt\n",
        "\n",
        "# check pyroch version\n",
        "torch.__version__"
      ]
    },
    {
      "cell_type": "markdown",
      "source": [
        "## 1 ) Data (preparing and loading)\n",
        "\n",
        "Data can be almost anything ... in Machine learning\n",
        "* Excel spreadsheet\n",
        "* Images\n",
        "* Vidoes\n",
        "* Audio\n",
        "* DNA\n",
        "* Text\n",
        "\n",
        "Machine leartning is a game of 2 parts\n",
        "\n",
        "1) get data into numerical representation\n",
        "\n",
        "2) build a model to learn patterns in that numerical representation\n",
        "\n",
        "**To showcase this lets create some *known* data using the linear regression formula**\n",
        "\n",
        "we will use a linear regression formula to make a straight line with known **parameters**\n"
      ],
      "metadata": {
        "id": "6NuWX9m8Vd9j"
      }
    },
    {
      "cell_type": "code",
      "source": [
        "# create *known* parameters\n",
        "\n",
        "weight = 0.7 # b\n",
        "bias = 0.3 # a\n",
        "\n",
        "# create\n",
        "start = 0\n",
        "end = 1\n",
        "step = 0.02\n",
        "X = torch.arange(start,end,step).unsqueeze(dim=1)\n",
        "y = weight* X + bias\n",
        "X[:10] , y[:10]"
      ],
      "metadata": {
        "colab": {
          "base_uri": "https://localhost:8080/"
        },
        "id": "4mKQSyyv-uGV",
        "outputId": "7863775a-657b-4392-a8b0-721fe9ccdfa3"
      },
      "execution_count": null,
      "outputs": [
        {
          "output_type": "execute_result",
          "data": {
            "text/plain": [
              "(tensor([[0.0000],\n",
              "         [0.0200],\n",
              "         [0.0400],\n",
              "         [0.0600],\n",
              "         [0.0800],\n",
              "         [0.1000],\n",
              "         [0.1200],\n",
              "         [0.1400],\n",
              "         [0.1600],\n",
              "         [0.1800]]),\n",
              " tensor([[0.3000],\n",
              "         [0.3140],\n",
              "         [0.3280],\n",
              "         [0.3420],\n",
              "         [0.3560],\n",
              "         [0.3700],\n",
              "         [0.3840],\n",
              "         [0.3980],\n",
              "         [0.4120],\n",
              "         [0.4260]]))"
            ]
          },
          "metadata": {},
          "execution_count": 2
        }
      ]
    },
    {
      "cell_type": "code",
      "source": [
        "len(X) , len(y)"
      ],
      "metadata": {
        "colab": {
          "base_uri": "https://localhost:8080/"
        },
        "id": "7sjdtwzPXtQR",
        "outputId": "2bcc2c46-93a5-40b6-aaa5-de3949aace82"
      },
      "execution_count": null,
      "outputs": [
        {
          "output_type": "execute_result",
          "data": {
            "text/plain": [
              "(50, 50)"
            ]
          },
          "metadata": {},
          "execution_count": 3
        }
      ]
    },
    {
      "cell_type": "markdown",
      "source": [
        "###Splitting Data into training and testing sets (one of the most important concepts in machine learning in general)\n",
        "\n",
        "lets create a training a test set with our data"
      ],
      "metadata": {
        "id": "HeAQwRz6Ywlq"
      }
    },
    {
      "cell_type": "code",
      "source": [
        "# create a train/test split\n",
        "train_split = int(0.8 * len(X))\n",
        "X_train , y_train = X[:train_split] , y[:train_split] # 1 to 40\n",
        "X_test , y_test = X[train_split:] ,y[train_split:] # 40 to 50\n",
        "\n",
        "len(X_train) ,len(y_train) , len(X_test) , len(y_test)"
      ],
      "metadata": {
        "colab": {
          "base_uri": "https://localhost:8080/"
        },
        "id": "HN4QdTK7Xw_5",
        "outputId": "34a36ec8-b111-46a2-dfa4-294189b5b647"
      },
      "execution_count": null,
      "outputs": [
        {
          "output_type": "execute_result",
          "data": {
            "text/plain": [
              "(40, 40, 10, 10)"
            ]
          },
          "metadata": {},
          "execution_count": 4
        }
      ]
    },
    {
      "cell_type": "markdown",
      "source": [
        "How might we better visualise our data?\n",
        "\n",
        "This is where explorers motto comes in!\n",
        "\n",
        "\"Visualise , visualise , visualise1!"
      ],
      "metadata": {
        "id": "kZnPCIuwd67v"
      }
    },
    {
      "cell_type": "code",
      "source": [
        "def plot_predictions(train_data = X_train,\n",
        "                     train_label=y_train,\n",
        "                     test_data=X_test,\n",
        "                     test_label = y_test,\n",
        "                     predictions=None):\n",
        "  \"\"\"\n",
        "  plots training data , test data and compares predictions\n",
        "  \"\"\"\n",
        "  plt.figure(figsize =(10,7))\n",
        "\n",
        "  # plot training data in blue\n",
        "  plt.scatter(train_data,train_label , c=\"k\",s=4,label=\"training data\")\n",
        "\n",
        "  # plot the test data in green\n",
        "  plt.scatter(test_data,test_label , c = \"c\" , s=5 ,label =\"testing data\")\n",
        "\n",
        "  # are there predictions ?\n",
        "  if predictions is not None:\n",
        "    # plot the [redictions if they exist\n",
        "    plt.scatter(test_data,predictions,c=\"r\",s=7,label=\"predictions\")\n",
        "\n",
        "  # show the legend\n",
        "  plt.legend(prop={\"size\":14});\n"
      ],
      "metadata": {
        "id": "2LOI4xRxdEaj"
      },
      "execution_count": null,
      "outputs": []
    },
    {
      "cell_type": "code",
      "source": [
        "plot_predictions()"
      ],
      "metadata": {
        "colab": {
          "base_uri": "https://localhost:8080/",
          "height": 472
        },
        "id": "jrgd8L2xd2kd",
        "outputId": "edebfbb1-955f-43b8-fcd3-a47be988db0e"
      },
      "execution_count": null,
      "outputs": [
        {
          "output_type": "display_data",
          "data": {
            "text/plain": [
              "<Figure size 1000x700 with 1 Axes>"
            ],
            "image/png": "[encoded data removed]"
          },
          "metadata": {}
        }
      ]
    },
    {
      "cell_type": "markdown",
      "source": [
        "##2) Build PyTorch model\n",
        "\n",
        "Our first Pytorch model\n",
        "\n",
        "This is very exciting lets do it\n",
        "\n",
        "What our model does ⁉\n",
        "\n",
        "* Start with random values (weight and bias )\n",
        "* Look at training data and adjust the random values to better represent (or get closer to) the ideal values (the weight and bias values we used to create the data )\n",
        "\n",
        "How does it do so ?\n",
        "\n",
        "1) Gradient descent\n",
        "\n",
        "2) BackPropagation"
      ],
      "metadata": {
        "id": "hlbncl2jh_R-"
      }
    },
    {
      "cell_type": "code",
      "source": [
        "from torch import nn\n",
        "# Create linear regression model class\n",
        "class LinearRegressionModel(nn.Module): # almost everything in Pytorch inherites from nn.Module\n",
        "  def __init__(self):\n",
        "    super().__init__()\n",
        "    self.weights = nn.Parameter(torch.randn(1, #<- start with a random weight and try to adjust it to the ideal weight\n",
        "                                            requires_grad=True, #<- can this parameter be updated via gradient descent?\n",
        "                                            dtype=torch.float)) #<- PyTorch loves the datatype torch.float32\n",
        "    self.bias = nn.Parameter(torch.randn(1,\n",
        "                                         requires_grad=True,\n",
        "                                         dtype=torch.float))\n",
        "    # always override forward method\n",
        "    # forward method to define the computation in the model\n",
        "  def forward(self , x : torch.Tensor ) -> torch.Tensor : # <- \"x\" is the input data\n",
        "    return self.weights * x + self.bias # linear regression formula\n"
      ],
      "metadata": {
        "id": "FQnOpSLDgC_R"
      },
      "execution_count": null,
      "outputs": []
    },
    {
      "cell_type": "markdown",
      "source": [
        "###PyTorch model building essentials\n",
        "\n",
        "* `torch.nn` -> conatins all of the building blocks for computational graphs ( a neural network can be considered a computational graph)\n",
        "\n",
        "* `torch.nn.Paramter` -> what paramters should our model try and learn ,often a pytorch layer from torch.nn will set these for us\n",
        "\n",
        "* `Torch.nn.Module` -> the base class for all netwrok modules , if you subclass it you should override forward()\n",
        "\n",
        "* `torch.optim` -> this is where optimisers in pytorch live , they will help in gradient descent\n",
        "\n",
        "* `def forward()` -> all nn.Module subclasses require you to overwrite forward , this method defines what happens in forward computations"
      ],
      "metadata": {
        "id": "1NSddwdsMrjQ"
      }
    },
    {
      "cell_type": "markdown",
      "source": [
        "### Checking the contents of our Pytorch model\n",
        "\n",
        "Now we have created a model , lets see what inside...\n",
        "\n",
        "So we can check our model parameters or whats inside our model using `.parameters()`"
      ],
      "metadata": {
        "id": "wIAs3IjBPQTO"
      }
    },
    {
      "cell_type": "code",
      "source": [
        "# Create a random seed\n",
        "torch.manual_seed(42)\n",
        "\n",
        "# create an instance of our model ( this is a subclass of nn.Module )\n",
        "model_0 = LinearRegressionModel()\n",
        "\n",
        "# check out parameters\n",
        "list(model_0.parameters())"
      ],
      "metadata": {
        "colab": {
          "base_uri": "https://localhost:8080/"
        },
        "id": "hXSZqgTiHhiT",
        "outputId": "52da17ec-d6bd-4ec4-89e9-134a9d5b2573"
      },
      "execution_count": null,
      "outputs": [
        {
          "output_type": "execute_result",
          "data": {
            "text/plain": [
              "[Parameter containing:\n",
              " tensor([0.3367], requires_grad=True),\n",
              " Parameter containing:\n",
              " tensor([0.1288], requires_grad=True)]"
            ]
          },
          "metadata": {},
          "execution_count": 8
        }
      ]
    },
    {
      "cell_type": "code",
      "source": [
        "# List named parameters\n",
        "model_0.state_dict()"
      ],
      "metadata": {
        "colab": {
          "base_uri": "https://localhost:8080/"
        },
        "id": "WKx5YfePQRbc",
        "outputId": "4a0adfc3-2165-4a96-dd0e-c8516757b5e8"
      },
      "execution_count": null,
      "outputs": [
        {
          "output_type": "execute_result",
          "data": {
            "text/plain": [
              "OrderedDict([('weights', tensor([0.3367])), ('bias', tensor([0.1288]))])"
            ]
          },
          "metadata": {},
          "execution_count": 9
        }
      ]
    },
    {
      "cell_type": "code",
      "source": [
        "weight, bias"
      ],
      "metadata": {
        "colab": {
          "base_uri": "https://localhost:8080/"
        },
        "id": "0zKO551hRMmZ",
        "outputId": "96ddd0f2-3a3a-4c6b-9a04-fc4673934026"
      },
      "execution_count": null,
      "outputs": [
        {
          "output_type": "execute_result",
          "data": {
            "text/plain": [
              "(0.7, 0.3)"
            ]
          },
          "metadata": {},
          "execution_count": 10
        }
      ]
    },
    {
      "cell_type": "markdown",
      "source": [
        "### Making predictions using `torch.inference_mode()`\n",
        "\n",
        "To check our model's predictive power , lets see how well it predict `y_test` based on `x_test`\n",
        "\n",
        "When we pass data through our model , its going to run it through the `forward()` method"
      ],
      "metadata": {
        "id": "_XtXjiAmWI4b"
      }
    },
    {
      "cell_type": "code",
      "source": [
        "X_test , y_test"
      ],
      "metadata": {
        "colab": {
          "base_uri": "https://localhost:8080/"
        },
        "id": "40ZDPtU33Tn0",
        "outputId": "86b30f3d-dce2-462a-a5d4-80a87c6acb14"
      },
      "execution_count": null,
      "outputs": [
        {
          "output_type": "execute_result",
          "data": {
            "text/plain": [
              "(tensor([[0.8000],\n",
              "         [0.8200],\n",
              "         [0.8400],\n",
              "         [0.8600],\n",
              "         [0.8800],\n",
              "         [0.9000],\n",
              "         [0.9200],\n",
              "         [0.9400],\n",
              "         [0.9600],\n",
              "         [0.9800]]),\n",
              " tensor([[0.8600],\n",
              "         [0.8740],\n",
              "         [0.8880],\n",
              "         [0.9020],\n",
              "         [0.9160],\n",
              "         [0.9300],\n",
              "         [0.9440],\n",
              "         [0.9580],\n",
              "         [0.9720],\n",
              "         [0.9860]]))"
            ]
          },
          "metadata": {},
          "execution_count": 11
        }
      ]
    },
    {
      "cell_type": "code",
      "source": [
        "# makae predictions with model\n",
        "with torch.inference_mode():\n",
        "  y_preds = model_0(X_test)\n",
        "\n",
        "#You can also do something similar with torch.no_grad() , however inference mode is preferred\n",
        "#with torch.no_grad():\n",
        "#  y_preds = model_0(X_test)\n",
        "\n",
        "y_preds"
      ],
      "metadata": {
        "id": "WTtw1f9ORVJ7",
        "colab": {
          "base_uri": "https://localhost:8080/"
        },
        "outputId": "7091ad42-aa55-4cae-a534-997e91d7365a"
      },
      "execution_count": null,
      "outputs": [
        {
          "output_type": "execute_result",
          "data": {
            "text/plain": [
              "tensor([[0.3982],\n",
              "        [0.4049],\n",
              "        [0.4116],\n",
              "        [0.4184],\n",
              "        [0.4251],\n",
              "        [0.4318],\n",
              "        [0.4386],\n",
              "        [0.4453],\n",
              "        [0.4520],\n",
              "        [0.4588]])"
            ]
          },
          "metadata": {},
          "execution_count": 12
        }
      ]
    },
    {
      "cell_type": "code",
      "source": [
        "y_test"
      ],
      "metadata": {
        "colab": {
          "base_uri": "https://localhost:8080/"
        },
        "id": "ZXSawE_A3fQ_",
        "outputId": "793edf8b-a207-422b-cb16-d5179b0f328f"
      },
      "execution_count": null,
      "outputs": [
        {
          "output_type": "execute_result",
          "data": {
            "text/plain": [
              "tensor([[0.8600],\n",
              "        [0.8740],\n",
              "        [0.8880],\n",
              "        [0.9020],\n",
              "        [0.9160],\n",
              "        [0.9300],\n",
              "        [0.9440],\n",
              "        [0.9580],\n",
              "        [0.9720],\n",
              "        [0.9860]])"
            ]
          },
          "metadata": {},
          "execution_count": 13
        }
      ]
    },
    {
      "cell_type": "code",
      "source": [
        "plot_predictions(predictions = y_preds)"
      ],
      "metadata": {
        "colab": {
          "base_uri": "https://localhost:8080/",
          "height": 472
        },
        "id": "Yp1rhvgx4DZU",
        "outputId": "1f871a28-402f-4848-cfd3-142bf90a3fb5"
      },
      "execution_count": null,
      "outputs": [
        {
          "output_type": "display_data",
          "data": {
            "text/plain": [
              "<Figure size 1000x700 with 1 Axes>"
            ],
            "image/png": "[encoded data removed]"
          },
          "metadata": {}
        }
      ]
    },
    {
      "cell_type": "markdown",
      "source": [
        "## 3) Training model\n",
        "\n",
        "the whole idea of training if for a model to move from some *unknown* parameters (these may be random) to some *known* parameters.\n",
        "\n",
        "In other words , from a poor representaion of a data  to a better representation of data .\n",
        "\n",
        "\n",
        "One way to measure how poor or how wrong our predictions are is to use a loss function\n",
        "\n",
        "* Note :Loss function may also be called cost function or criterion in different areas . For our case , we are going to refer to it as a loss function.\n",
        "\n",
        "Things we need to train :\n",
        "\n",
        "* **Loss Function:** A function to measure how wrong our model predictions are to ideal the ideal outputs , lower is better .\n",
        "* **Optimiser:** Takes into account of loss of a model and adjust the model's parameters(e.g. weights and bias ) to improve the loss function .\n",
        "\n",
        "  Inside the optimiser you will have to set 2 parameters\n",
        "**  `params` - the model parameters that we like to optimize , for example `params = model_0.parameters()`\n",
        "** `lr`(learning rate ) - the lr is the hyper parameter that defines how big/ small the optimiser changes the parameters with each step(a small `lr` results in small changes , a large `lr` results in large changes)\n",
        "\n",
        "And for specifically for pytorch , we need :\n",
        " * A training loop\n",
        " * A testing loop"
      ],
      "metadata": {
        "id": "uGPlGRbU6RS7"
      }
    },
    {
      "cell_type": "code",
      "source": [
        "list(model_0.parameters())"
      ],
      "metadata": {
        "colab": {
          "base_uri": "https://localhost:8080/"
        },
        "id": "SMkXL47L4K28",
        "outputId": "677b4f14-1273-4d38-b954-013663b09e0d"
      },
      "execution_count": null,
      "outputs": [
        {
          "output_type": "execute_result",
          "data": {
            "text/plain": [
              "[Parameter containing:\n",
              " tensor([0.3367], requires_grad=True),\n",
              " Parameter containing:\n",
              " tensor([0.1288], requires_grad=True)]"
            ]
          },
          "metadata": {},
          "execution_count": 15
        }
      ]
    },
    {
      "cell_type": "code",
      "source": [
        "# checking our model parameters( a parameter is a value that the model sets itself)\n",
        "model_0.state_dict()"
      ],
      "metadata": {
        "colab": {
          "base_uri": "https://localhost:8080/"
        },
        "id": "GAM5TgEs805n",
        "outputId": "c87ce226-fcae-45fc-d697-d6b4e9860e24"
      },
      "execution_count": null,
      "outputs": [
        {
          "output_type": "execute_result",
          "data": {
            "text/plain": [
              "OrderedDict([('weights', tensor([0.3367])), ('bias', tensor([0.1288]))])"
            ]
          },
          "metadata": {},
          "execution_count": 16
        }
      ]
    },
    {
      "cell_type": "code",
      "source": [
        "# Setup a loss function\n",
        "loss_fn = nn.L1Loss()\n",
        "\n",
        "# setup an optimiser\n",
        "optimizer = torch.optim.SGD(params = model_0.parameters() ,\n",
        "                            lr = 0.01) # lr = learning rate = possibly the most important hyper parameter you can set"
      ],
      "metadata": {
        "id": "ux5MmvCd87Yc"
      },
      "execution_count": null,
      "outputs": []
    },
    {
      "cell_type": "markdown",
      "source": [
        "### Building a training loop (and a testing loop) in PyTorch\n",
        "\n",
        "A couple of things we need in a training loop:\n",
        "\n",
        "0. Loop through the data and do\n",
        "1. forward pass ( this involves data moving through our model's `forward()` function to make predictions on data  - also called forward propagation\n",
        "2. Calculate the loss (comapre forward pass predictions to ground truth labels)\n",
        "3. Optimiser zero grad\n",
        "4. Loss backward - move backwards through network to calculate the gradients of each of the parameters of our model with respect to the loss (**Backpropagation**)\n",
        "5. Optimizer - use the optmizer to adjust our model's parameters to try and improve the loss (**gradient descent**)\n"
      ],
      "metadata": {
        "id": "IL8VMA8ppdVQ"
      }
    },
    {
      "cell_type": "code",
      "source": [
        "torch.manual_seed(42)\n",
        "\n",
        "# An epoch is 1 loop through the data ...\n",
        "epochs = 200\n",
        "\n",
        "#Track different values\n",
        "epoch_count =[]\n",
        "loss_values=[]\n",
        "test_loss_values=[]\n",
        "\n",
        "### Training\n",
        "# 0. loop through the data\n",
        "for epoch in range(epochs):\n",
        "  # set the model to training mode\n",
        "  model_0.train()  # train mode in PyTorch sets all parameters that require gradient to require gradient\n",
        "\n",
        "  # 1. Forward pass\n",
        "  y_pred = model_0(X_train)\n",
        "\n",
        "  # 2. Calculate the loss\n",
        "  loss = loss_fn(y_pred,y_train)\n",
        "\n",
        "  # 3 . Optimizer zero grad\n",
        "  optimizer.zero_grad()\n",
        "\n",
        "  # 4 . perform backpropagation on the loss with respect to the parameters of the model\n",
        "  loss.backward()\n",
        "\n",
        "  # 5 . Step the optimizer (perform gradient descent)\n",
        "  optimizer.step() # by default how the optimizer changes through the loop so ... we have to zero them above in step 3 for next iteration of the loop\n",
        "\n",
        "  ###Testing\n",
        "  model_0.eval() # turns off different settings in the model not needed for evaluation/testing (dropout/natch norm layers)\n",
        "  with torch.inference_mode(): # turns off gradient tracking and a couple more things behind the scences\n",
        "    # 1 . forward pass\n",
        "    test_pred = model_0(X_test)\n",
        "\n",
        "    # 2 . calculate the loss\n",
        "    test_loss = loss_fn(test_pred,y_test)\n",
        "\n",
        "  # print out whats happening\n",
        "  if(epoch%10==0):\n",
        "    epoch_count.append(epoch)\n",
        "    loss_values.append(loss)\n",
        "    test_loss_values.append(test_loss)\n",
        "    print(f\"Epoch : {epoch} | Loss : {loss} | Test Loss :{test_loss}\")\n",
        "    # print our model state_dict()\n",
        "    print(model_0.state_dict())"
      ],
      "metadata": {
        "id": "Ie4rBT0hlfp5",
        "colab": {
          "base_uri": "https://localhost:8080/"
        },
        "outputId": "5c013d7b-d304-4a58-e654-71e84ed609c0"
      },
      "execution_count": null,
      "outputs": [
        {
          "output_type": "stream",
          "name": "stdout",
          "text": [
            "Epoch : 0 | Loss : 0.31288138031959534 | Test Loss :0.48106518387794495\n",
            "OrderedDict([('weights', tensor([0.3406])), ('bias', tensor([0.1388]))])\n",
            "Epoch : 10 | Loss : 0.1976713240146637 | Test Loss :0.3463551998138428\n",
            "OrderedDict([('weights', tensor([0.3796])), ('bias', tensor([0.2388]))])\n",
            "Epoch : 20 | Loss : 0.08908725529909134 | Test Loss :0.21729660034179688\n",
            "OrderedDict([('weights', tensor([0.4184])), ('bias', tensor([0.3333]))])\n",
            "Epoch : 30 | Loss : 0.053148526698350906 | Test Loss :0.14464017748832703\n",
            "OrderedDict([('weights', tensor([0.4512])), ('bias', tensor([0.3768]))])\n",
            "Epoch : 40 | Loss : 0.04543796554207802 | Test Loss :0.11360953003168106\n",
            "OrderedDict([('weights', tensor([0.4748])), ('bias', tensor([0.3868]))])\n",
            "Epoch : 50 | Loss : 0.04167863354086876 | Test Loss :0.09919948130846024\n",
            "OrderedDict([('weights', tensor([0.4938])), ('bias', tensor([0.3843]))])\n",
            "Epoch : 60 | Loss : 0.03818932920694351 | Test Loss :0.08886633068323135\n",
            "OrderedDict([('weights', tensor([0.5116])), ('bias', tensor([0.3788]))])\n",
            "Epoch : 70 | Loss : 0.03476089984178543 | Test Loss :0.0805937647819519\n",
            "OrderedDict([('weights', tensor([0.5288])), ('bias', tensor([0.3718]))])\n",
            "Epoch : 80 | Loss : 0.03132382780313492 | Test Loss :0.07232122868299484\n",
            "OrderedDict([('weights', tensor([0.5459])), ('bias', tensor([0.3648]))])\n",
            "Epoch : 90 | Loss : 0.02788739837706089 | Test Loss :0.06473556160926819\n",
            "OrderedDict([('weights', tensor([0.5629])), ('bias', tensor([0.3573]))])\n",
            "Epoch : 100 | Loss : 0.024458957836031914 | Test Loss :0.05646304413676262\n",
            "OrderedDict([('weights', tensor([0.5800])), ('bias', tensor([0.3503]))])\n",
            "Epoch : 110 | Loss : 0.021020207554101944 | Test Loss :0.04819049686193466\n",
            "OrderedDict([('weights', tensor([0.5972])), ('bias', tensor([0.3433]))])\n",
            "Epoch : 120 | Loss : 0.01758546568453312 | Test Loss :0.04060482233762741\n",
            "OrderedDict([('weights', tensor([0.6141])), ('bias', tensor([0.3358]))])\n",
            "Epoch : 130 | Loss : 0.014155393466353416 | Test Loss :0.03233227878808975\n",
            "OrderedDict([('weights', tensor([0.6313])), ('bias', tensor([0.3288]))])\n",
            "Epoch : 140 | Loss : 0.010716589167714119 | Test Loss :0.024059748277068138\n",
            "OrderedDict([('weights', tensor([0.6485])), ('bias', tensor([0.3218]))])\n",
            "Epoch : 150 | Loss : 0.0072835334576666355 | Test Loss :0.016474086791276932\n",
            "OrderedDict([('weights', tensor([0.6654])), ('bias', tensor([0.3143]))])\n",
            "Epoch : 160 | Loss : 0.0038517764769494534 | Test Loss :0.008201557211577892\n",
            "OrderedDict([('weights', tensor([0.6826])), ('bias', tensor([0.3073]))])\n",
            "Epoch : 170 | Loss : 0.008932482451200485 | Test Loss :0.005023092031478882\n",
            "OrderedDict([('weights', tensor([0.6951])), ('bias', tensor([0.2993]))])\n",
            "Epoch : 180 | Loss : 0.008932482451200485 | Test Loss :0.005023092031478882\n",
            "OrderedDict([('weights', tensor([0.6951])), ('bias', tensor([0.2993]))])\n",
            "Epoch : 190 | Loss : 0.008932482451200485 | Test Loss :0.005023092031478882\n",
            "OrderedDict([('weights', tensor([0.6951])), ('bias', tensor([0.2993]))])\n"
          ]
        }
      ]
    },
    {
      "cell_type": "code",
      "source": [
        "import numpy as np"
      ],
      "metadata": {
        "id": "NB9EbZJZXdgA"
      },
      "execution_count": null,
      "outputs": []
    },
    {
      "cell_type": "code",
      "source": [
        "# plot the loss curves\n",
        "plt.plot(epoch_count , np.array(torch.tensor(loss_values).numpy()) , label=\"Train Loss\")\n",
        "plt.plot(epoch_count,test_loss_values , label=\"Test loss\")\n",
        "plt.title(\"Training and test loss curves\")\n",
        "plt.ylabel(\"loss\")\n",
        "plt.xlabel(\"epoch\")\n",
        "plt.legend();"
      ],
      "metadata": {
        "colab": {
          "base_uri": "https://localhost:8080/",
          "height": 472
        },
        "id": "vFH287LgTjrk",
        "outputId": "800704a5-bcda-470e-d8ef-6c6e1fc10833"
      },
      "execution_count": null,
      "outputs": [
        {
          "output_type": "display_data",
          "data": {
            "text/plain": [
              "<Figure size 640x480 with 1 Axes>"
            ],
            "image/png": "[encoded data removed]"
          },
          "metadata": {}
        }
      ]
    },
    {
      "cell_type": "code",
      "source": [
        "model_0.state_dict()"
      ],
      "metadata": {
        "colab": {
          "base_uri": "https://localhost:8080/"
        },
        "id": "lLL0rIo72UCj",
        "outputId": "a4b2042e-2de4-4db5-d193-d7dd3f263ab7"
      },
      "execution_count": null,
      "outputs": [
        {
          "output_type": "execute_result",
          "data": {
            "text/plain": [
              "OrderedDict([('weights', tensor([0.6990])), ('bias', tensor([0.3093]))])"
            ]
          },
          "metadata": {},
          "execution_count": 21
        }
      ]
    },
    {
      "cell_type": "code",
      "source": [
        "with torch.inference_mode():\n",
        "  y_preds_new = model_0(X_test)"
      ],
      "metadata": {
        "id": "cgqgwzD63DXa"
      },
      "execution_count": null,
      "outputs": []
    },
    {
      "cell_type": "code",
      "source": [
        "plot_predictions(predictions=y_preds_new);"
      ],
      "metadata": {
        "colab": {
          "base_uri": "https://localhost:8080/",
          "height": 472
        },
        "id": "ChiwqpwQN07-",
        "outputId": "89861cc3-663e-49e1-93d1-26693eb604eb"
      },
      "execution_count": null,
      "outputs": [
        {
          "output_type": "display_data",
          "data": {
            "text/plain": [
              "<Figure size 1000x700 with 1 Axes>"
            ],
            "image/png": "[encoded data removed]"
          },
          "metadata": {}
        }
      ]
    },
    {
      "cell_type": "markdown",
      "source": [
        "## 4)Saving a model in PyTorch\n",
        "\n",
        "there are 3 main methods you should know about for saving and loading models in PyTorch.\n",
        "\n",
        "1. `torch.save()`- allows you to save a PyTorch object in Pythons's pickle format.\n",
        "\n",
        "2. `torch.load()` - allows you to load a saved PyTorch object.\n",
        "\n",
        "3. `torch.nn.Module.load_state_dict()` - this allows you to load a model's saved state dictionary"
      ],
      "metadata": {
        "id": "35ktG_gUZTzo"
      }
    },
    {
      "cell_type": "code",
      "source": [
        "model_0.state_dict()"
      ],
      "metadata": {
        "colab": {
          "base_uri": "https://localhost:8080/"
        },
        "id": "zn5sa2BGN-Bx",
        "outputId": "1d09a119-78e3-478f-c165-9db34450f073"
      },
      "execution_count": null,
      "outputs": [
        {
          "output_type": "execute_result",
          "data": {
            "text/plain": [
              "OrderedDict([('weights', tensor([0.6990])), ('bias', tensor([0.3093]))])"
            ]
          },
          "metadata": {},
          "execution_count": 24
        }
      ]
    },
    {
      "cell_type": "code",
      "source": [
        "# Saving our PyTorch model\n",
        "from pathlib import Path\n",
        "\n",
        "# 1 . Create model directory\n",
        "MODEL_PATH = Path(\"models\")\n",
        "MODEL_PATH.mkdir(parents = True , exist_ok=True)\n",
        "\n",
        "# 2 . Create model save path\n",
        "MODEL_NAME = \"01_pytorchWorkflow_model_0.pth\"\n",
        "\n",
        "MODEL_SAVE_PATH = MODEL_PATH/MODEL_NAME\n",
        "\n",
        "# 3 . save the model state dict\n",
        "print(f\"saving model to : {MODEL_SAVE_PATH}\")\n",
        "torch.save(obj=model_0.state_dict(),\n",
        "           f =MODEL_SAVE_PATH)"
      ],
      "metadata": {
        "colab": {
          "base_uri": "https://localhost:8080/"
        },
        "id": "axgjje-vaatu",
        "outputId": "80964684-9bb4-48f8-d8a7-86bbfab98630"
      },
      "execution_count": null,
      "outputs": [
        {
          "output_type": "stream",
          "name": "stdout",
          "text": [
            "saving model to : models/01_pytorchWorkflow_model_0.pth\n"
          ]
        }
      ]
    },
    {
      "cell_type": "code",
      "source": [
        "ls -l models"
      ],
      "metadata": {
        "colab": {
          "base_uri": "https://localhost:8080/"
        },
        "id": "GxJFZKqNih0p",
        "outputId": "8b1bfede-0fe7-4b5e-9e23-bbc1152eef50"
      },
      "execution_count": null,
      "outputs": [
        {
          "output_type": "stream",
          "name": "stdout",
          "text": [
            "total 4\n",
            "-rw-r--r-- 1 root root 1203 Aug 16 06:25 01_pytorchWorkflow_model_0.pth\n"
          ]
        }
      ]
    },
    {
      "cell_type": "markdown",
      "source": [
        "## 5)Loading a PyTorch model\n",
        "\n",
        "since we saved our model's `state_dict()` rather the entire model , we will create a new instance of our model class and load the saved `state_dict()` into that."
      ],
      "metadata": {
        "id": "PUHeg8MYjElt"
      }
    },
    {
      "cell_type": "code",
      "source": [
        "model_0.state_dict()"
      ],
      "metadata": {
        "colab": {
          "base_uri": "https://localhost:8080/"
        },
        "id": "URpFAma5ilVF",
        "outputId": "b5680eb1-9a55-41fa-f910-90fc88e54e33"
      },
      "execution_count": null,
      "outputs": [
        {
          "output_type": "execute_result",
          "data": {
            "text/plain": [
              "OrderedDict([('weights', tensor([0.6990])), ('bias', tensor([0.3093]))])"
            ]
          },
          "metadata": {},
          "execution_count": 27
        }
      ]
    },
    {
      "cell_type": "code",
      "source": [
        "# To load in a saved state_dict we have to instantiate a new instance of our model class\n",
        "loaded_model_0 = LinearRegressionModel()\n",
        "\n",
        "# load the saved state_dict of model_0 (this will update the new instance with updated parameters)\n",
        "loaded_model_0.load_state_dict(torch.load(f=MODEL_SAVE_PATH))"
      ],
      "metadata": {
        "colab": {
          "base_uri": "https://localhost:8080/"
        },
        "id": "WWrzw18zjpBf",
        "outputId": "ef0f625d-2260-4bd0-db36-d44b110ae0b3"
      },
      "execution_count": null,
      "outputs": [
        {
          "output_type": "execute_result",
          "data": {
            "text/plain": [
              "<All keys matched successfully>"
            ]
          },
          "metadata": {},
          "execution_count": 28
        }
      ]
    },
    {
      "cell_type": "code",
      "source": [
        "loaded_model_0.state_dict()"
      ],
      "metadata": {
        "colab": {
          "base_uri": "https://localhost:8080/"
        },
        "id": "j7f9nhz-kC4A",
        "outputId": "7cb2b576-1d37-4a88-8514-b0ff5620cc78"
      },
      "execution_count": null,
      "outputs": [
        {
          "output_type": "execute_result",
          "data": {
            "text/plain": [
              "OrderedDict([('weights', tensor([0.6990])), ('bias', tensor([0.3093]))])"
            ]
          },
          "metadata": {},
          "execution_count": 29
        }
      ]
    },
    {
      "cell_type": "code",
      "source": [
        "# Make some predictions with our loaded model\n",
        "loaded_model_0.eval()\n",
        "with torch.inference_mode():\n",
        "  loaded_model_preds = loaded_model_0(X_test)\n",
        "loaded_model_preds"
      ],
      "metadata": {
        "colab": {
          "base_uri": "https://localhost:8080/"
        },
        "id": "HqBGjM-ZkHjn",
        "outputId": "e21a723b-2187-40dd-c7c3-232042eb558c"
      },
      "execution_count": null,
      "outputs": [
        {
          "output_type": "execute_result",
          "data": {
            "text/plain": [
              "tensor([[0.8685],\n",
              "        [0.8825],\n",
              "        [0.8965],\n",
              "        [0.9105],\n",
              "        [0.9245],\n",
              "        [0.9384],\n",
              "        [0.9524],\n",
              "        [0.9664],\n",
              "        [0.9804],\n",
              "        [0.9944]])"
            ]
          },
          "metadata": {},
          "execution_count": 30
        }
      ]
    },
    {
      "cell_type": "code",
      "source": [
        "# Make some model preds\n",
        "model_0.eval()\n",
        "with torch.inference_mode():\n",
        "  y_preds = model_0(X_test)\n",
        "y_preds"
      ],
      "metadata": {
        "colab": {
          "base_uri": "https://localhost:8080/"
        },
        "id": "SABRA1K9k_PN",
        "outputId": "7938077c-9d33-4ca3-e120-9548ebf8b967"
      },
      "execution_count": null,
      "outputs": [
        {
          "output_type": "execute_result",
          "data": {
            "text/plain": [
              "tensor([[0.8685],\n",
              "        [0.8825],\n",
              "        [0.8965],\n",
              "        [0.9105],\n",
              "        [0.9245],\n",
              "        [0.9384],\n",
              "        [0.9524],\n",
              "        [0.9664],\n",
              "        [0.9804],\n",
              "        [0.9944]])"
            ]
          },
          "metadata": {},
          "execution_count": 31
        }
      ]
    },
    {
      "cell_type": "code",
      "source": [
        "# comapre the loaded model with original model preds\n",
        "y_preds == loaded_model_preds"
      ],
      "metadata": {
        "colab": {
          "base_uri": "https://localhost:8080/"
        },
        "id": "AeUCthC5lVXt",
        "outputId": "db96c4e7-b81f-4c1c-93a2-f88c5c940ae0"
      },
      "execution_count": null,
      "outputs": [
        {
          "output_type": "execute_result",
          "data": {
            "text/plain": [
              "tensor([[True],\n",
              "        [True],\n",
              "        [True],\n",
              "        [True],\n",
              "        [True],\n",
              "        [True],\n",
              "        [True],\n",
              "        [True],\n",
              "        [True],\n",
              "        [True]])"
            ]
          },
          "metadata": {},
          "execution_count": 32
        }
      ]
    },
    {
      "cell_type": "markdown",
      "source": [
        "## 6 ) Putting it all together\n",
        "\n",
        "lets go back through the steps above and see it all in one place"
      ],
      "metadata": {
        "id": "TqMRtgKCmFya"
      }
    },
    {
      "cell_type": "code",
      "source": [
        "# Import PyTorch and matplotlib\n",
        "import torch\n",
        "from torch import nn\n",
        "import matplotlib.pyplot as plt\n",
        "\n",
        "# chacek pytorch version\n",
        "torch.__version__"
      ],
      "metadata": {
        "colab": {
          "base_uri": "https://localhost:8080/",
          "height": 36
        },
        "id": "NNCaiojEmpq2",
        "outputId": "0fca531d-5b9a-4164-cc7a-9d0b81dd954c"
      },
      "execution_count": null,
      "outputs": [
        {
          "output_type": "execute_result",
          "data": {
            "text/plain": [
              "'2.0.1+cu118'"
            ],
            "application/vnd.google.colaboratory.intrinsic+json": {
              "type": "string"
            }
          },
          "metadata": {},
          "execution_count": 33
        }
      ]
    },
    {
      "cell_type": "markdown",
      "source": [
        "create device - agnostic code .\n",
        "\n",
        "this means if we got access to GPU , our code will use it (for faster computing).\n",
        "\n",
        "if no GPU is available , the code will default to using CPU"
      ],
      "metadata": {
        "id": "iSUffV22m88k"
      }
    },
    {
      "cell_type": "code",
      "source": [
        "# setup device agnostic code\n",
        "device = \"cuda\" if torch.cuda.is_available() else \"cpu\"\n",
        "print(f\"using device : {device}\")"
      ],
      "metadata": {
        "colab": {
          "base_uri": "https://localhost:8080/"
        },
        "id": "dJTDBAV3m8BD",
        "outputId": "32fc952b-bfeb-40a6-81ab-50a8de49c078"
      },
      "execution_count": null,
      "outputs": [
        {
          "output_type": "stream",
          "name": "stdout",
          "text": [
            "using device : cpu\n"
          ]
        }
      ]
    },
    {
      "cell_type": "markdown",
      "source": [
        "### 6.1 ) DATA\n",
        "\n"
      ],
      "metadata": {
        "id": "4b6-yZhYmYlX"
      }
    },
    {
      "cell_type": "code",
      "source": [
        "# create some data using the linear regression formula of y = weight * X + bias\n",
        "weight = 0.7\n",
        "bias = 0.3\n",
        "\n",
        "# create range values\n",
        "start = 0\n",
        "end = 1\n",
        "step = 0.02\n",
        "\n",
        "# create x and y (features and labels)\n",
        "X = torch.arange(start,end,step).unsqueeze(dim=1)\n",
        "y = weight * X + bias\n",
        "X[:10],y[:10]"
      ],
      "metadata": {
        "colab": {
          "base_uri": "https://localhost:8080/"
        },
        "id": "JV3hTO4ymXH2",
        "outputId": "7da6c9f2-c001-446a-f95e-5da7b37198c5"
      },
      "execution_count": null,
      "outputs": [
        {
          "output_type": "execute_result",
          "data": {
            "text/plain": [
              "(tensor([[0.0000],\n",
              "         [0.0200],\n",
              "         [0.0400],\n",
              "         [0.0600],\n",
              "         [0.0800],\n",
              "         [0.1000],\n",
              "         [0.1200],\n",
              "         [0.1400],\n",
              "         [0.1600],\n",
              "         [0.1800]]),\n",
              " tensor([[0.3000],\n",
              "         [0.3140],\n",
              "         [0.3280],\n",
              "         [0.3420],\n",
              "         [0.3560],\n",
              "         [0.3700],\n",
              "         [0.3840],\n",
              "         [0.3980],\n",
              "         [0.4120],\n",
              "         [0.4260]]))"
            ]
          },
          "metadata": {},
          "execution_count": 35
        }
      ]
    },
    {
      "cell_type": "code",
      "source": [
        "# Split data\n",
        "train_split = int(0.8*len(X))\n",
        "X_train , y_train = X[:train_split] , y[:train_split]\n",
        "X_test , y_test = X[train_split:] , y[train_split:]\n",
        "len(X_train) ,len(y_train) ,len(X_test) ,len(y_test)"
      ],
      "metadata": {
        "colab": {
          "base_uri": "https://localhost:8080/"
        },
        "id": "-CUxCnikoSvg",
        "outputId": "61d5f5ba-5e0d-42e4-c786-193d7c0bc9f4"
      },
      "execution_count": null,
      "outputs": [
        {
          "output_type": "execute_result",
          "data": {
            "text/plain": [
              "(40, 40, 10, 10)"
            ]
          },
          "metadata": {},
          "execution_count": 36
        }
      ]
    },
    {
      "cell_type": "code",
      "source": [
        "# Plot the data\n",
        "# Note : if you dont have plot_predictions() function loaded , this will error\n",
        "plot_predictions(X_train,y_train,X_test,y_test)"
      ],
      "metadata": {
        "colab": {
          "base_uri": "https://localhost:8080/",
          "height": 472
        },
        "id": "O6YcUkfOpArv",
        "outputId": "e2a8f5d5-db63-4c44-eff5-bb9d0abe4395"
      },
      "execution_count": null,
      "outputs": [
        {
          "output_type": "display_data",
          "data": {
            "text/plain": [
              "<Figure size 1000x700 with 1 Axes>"
            ],
            "image/png": "[encoded data removed]"
          },
          "metadata": {}
        }
      ]
    },
    {
      "cell_type": "markdown",
      "source": [
        "### 6.2) Building a PyTorch Linear Model"
      ],
      "metadata": {
        "id": "oxn-QblBpqSs"
      }
    },
    {
      "cell_type": "code",
      "source": [
        "# create a linear model by subclassing nn.Module\n",
        "class LinearRegressionModelV2(nn.Module):\n",
        "  def __init__(self):\n",
        "    super().__init__()\n",
        "    # use nn.Linear() for creating model parameters/ also called linear transform , probing layer , fully connected layer . dense layer\n",
        "    self.linear_layer = nn.Linear(in_features = 1,\n",
        "                                  out_features=1)\n",
        "\n",
        "  def forward(self,x: torch.Tensor) -> torch.Tensor:\n",
        "    return self.linear_layer(x)\n",
        "\n",
        "# set the manual seed\n",
        "torch.manual_seed(42)\n",
        "model_1= LinearRegressionModelV2()\n",
        "model_1"
      ],
      "metadata": {
        "id": "kz7nq4ULpp5T",
        "colab": {
          "base_uri": "https://localhost:8080/"
        },
        "outputId": "2fbbaa06-8666-4460-d51c-cd425048f683"
      },
      "execution_count": null,
      "outputs": [
        {
          "output_type": "execute_result",
          "data": {
            "text/plain": [
              "LinearRegressionModelV2(\n",
              "  (linear_layer): Linear(in_features=1, out_features=1, bias=True)\n",
              ")"
            ]
          },
          "metadata": {},
          "execution_count": 38
        }
      ]
    },
    {
      "cell_type": "code",
      "source": [
        "model_1.state_dict()"
      ],
      "metadata": {
        "colab": {
          "base_uri": "https://localhost:8080/"
        },
        "id": "B9k7OzjQg84N",
        "outputId": "29d4801c-9faa-4a62-d84e-af3cfef7a629"
      },
      "execution_count": null,
      "outputs": [
        {
          "output_type": "execute_result",
          "data": {
            "text/plain": [
              "OrderedDict([('linear_layer.weight', tensor([[0.7645]])),\n",
              "             ('linear_layer.bias', tensor([0.8300]))])"
            ]
          },
          "metadata": {},
          "execution_count": 39
        }
      ]
    },
    {
      "cell_type": "code",
      "source": [
        "# check the model current device\n",
        "next(model_1.parameters()).device"
      ],
      "metadata": {
        "colab": {
          "base_uri": "https://localhost:8080/"
        },
        "id": "9occgkmYiEMM",
        "outputId": "1b531eb9-4452-47a9-da6e-4d9b789bec27"
      },
      "execution_count": null,
      "outputs": [
        {
          "output_type": "execute_result",
          "data": {
            "text/plain": [
              "device(type='cpu')"
            ]
          },
          "metadata": {},
          "execution_count": 40
        }
      ]
    },
    {
      "cell_type": "code",
      "source": [
        "# set the model to use the target device\n",
        "model_1.to(device)\n",
        "next(model_1.parameters()).device"
      ],
      "metadata": {
        "colab": {
          "base_uri": "https://localhost:8080/"
        },
        "id": "mKz3T9zlhCqs",
        "outputId": "6b377aec-e397-4774-efeb-cc1f96481878"
      },
      "execution_count": null,
      "outputs": [
        {
          "output_type": "execute_result",
          "data": {
            "text/plain": [
              "device(type='cpu')"
            ]
          },
          "metadata": {},
          "execution_count": 41
        }
      ]
    },
    {
      "cell_type": "markdown",
      "source": [
        "### 6.3) Training\n",
        "\n",
        "for training we need :\n",
        "* Loss function\n",
        "* Optimizer\n",
        "* Training loop\n",
        "* Testing loop"
      ],
      "metadata": {
        "id": "e5OwgqGFiX1m"
      }
    },
    {
      "cell_type": "code",
      "source": [
        "# setup loss function\n",
        "loss_fn = nn.L1Loss() # same as MAE\n",
        "\n",
        "# set up optimizer\n",
        "optimizer = torch.optim.SGD(params = model_1.parameters(),\n",
        "                            lr =0.01)"
      ],
      "metadata": {
        "id": "P5q_ScDuiCRd"
      },
      "execution_count": null,
      "outputs": []
    },
    {
      "cell_type": "code",
      "source": [
        "# lets write a training loop\n",
        "torch.manual_seed(42)\n",
        "\n",
        "epochs = 200\n",
        "\n",
        "# put data on target device(device agnostic code for data)\n",
        "X_train=X_train.to(device)\n",
        "y_train=y_train.to(device)\n",
        "X_test=X_test.to(device)\n",
        "y_test=y_test.to(device)\n",
        "\n",
        "for epoch in range(epochs):\n",
        "  model_1.train()\n",
        "\n",
        "  # 1. forward pass\n",
        "  y_pred = model_1(X_train)\n",
        "\n",
        "  # 2. calculate the loss\n",
        "  loss = loss_fn(y_pred,y_train)\n",
        "\n",
        "  # 3. Optmizer zero grad\n",
        "  optimizer.zero_grad()\n",
        "\n",
        "  # 4. perform back propagation\n",
        "  loss.backward()\n",
        "\n",
        "  # 5. Optimizer step\n",
        "  optimizer.step()\n",
        "\n",
        "  ### Testing\n",
        "  model_1.eval()\n",
        "  with torch.inference_mode():\n",
        "    test_pred = model_1(X_test)\n",
        "\n",
        "    test_loss = loss_fn(test_pred,y_test)\n",
        "\n",
        "  # print whats happening\n",
        "  if(epoch % 10==0):\n",
        "    print(f\"Epoch : {epoch} | Loss : {loss} | Test Loss : {test_loss}\")\n",
        "\n"
      ],
      "metadata": {
        "colab": {
          "base_uri": "https://localhost:8080/"
        },
        "id": "dbyT-Oc0i6mL",
        "outputId": "3044eba2-3aff-43f8-a2ba-32121d9e38d7"
      },
      "execution_count": null,
      "outputs": [
        {
          "output_type": "stream",
          "name": "stdout",
          "text": [
            "Epoch : 0 | Loss : 0.5551779866218567 | Test Loss : 0.5739762187004089\n",
            "Epoch : 10 | Loss : 0.4399680495262146 | Test Loss : 0.4392663538455963\n",
            "Epoch : 20 | Loss : 0.3247582018375397 | Test Loss : 0.30455657839775085\n",
            "Epoch : 30 | Loss : 0.20954827964305878 | Test Loss : 0.16984674334526062\n",
            "Epoch : 40 | Loss : 0.09433844685554504 | Test Loss : 0.03513689711689949\n",
            "Epoch : 50 | Loss : 0.023886386305093765 | Test Loss : 0.04784906655550003\n",
            "Epoch : 60 | Loss : 0.0199567973613739 | Test Loss : 0.04580312222242355\n",
            "Epoch : 70 | Loss : 0.016517987474799156 | Test Loss : 0.0375305712223053\n",
            "Epoch : 80 | Loss : 0.013089170679450035 | Test Loss : 0.029944902285933495\n",
            "Epoch : 90 | Loss : 0.009653178043663502 | Test Loss : 0.02167237363755703\n",
            "Epoch : 100 | Loss : 0.006215679459273815 | Test Loss : 0.014086711220443249\n",
            "Epoch : 110 | Loss : 0.002787243574857712 | Test Loss : 0.005814164876937866\n",
            "Epoch : 120 | Loss : 0.0012645035749301314 | Test Loss : 0.013801807537674904\n",
            "Epoch : 130 | Loss : 0.0012645035749301314 | Test Loss : 0.013801807537674904\n",
            "Epoch : 140 | Loss : 0.0012645035749301314 | Test Loss : 0.013801807537674904\n",
            "Epoch : 150 | Loss : 0.0012645035749301314 | Test Loss : 0.013801807537674904\n",
            "Epoch : 160 | Loss : 0.0012645035749301314 | Test Loss : 0.013801807537674904\n",
            "Epoch : 170 | Loss : 0.0012645035749301314 | Test Loss : 0.013801807537674904\n",
            "Epoch : 180 | Loss : 0.0012645035749301314 | Test Loss : 0.013801807537674904\n",
            "Epoch : 190 | Loss : 0.0012645035749301314 | Test Loss : 0.013801807537674904\n"
          ]
        }
      ]
    },
    {
      "cell_type": "code",
      "source": [
        "model_1.state_dict()"
      ],
      "metadata": {
        "colab": {
          "base_uri": "https://localhost:8080/"
        },
        "id": "sHYg8Kozk80g",
        "outputId": "574b4474-328e-44ab-99a9-e85e7c2c60c4"
      },
      "execution_count": null,
      "outputs": [
        {
          "output_type": "execute_result",
          "data": {
            "text/plain": [
              "OrderedDict([('linear_layer.weight', tensor([[0.6968]])),\n",
              "             ('linear_layer.bias', tensor([0.3025]))])"
            ]
          },
          "metadata": {},
          "execution_count": 44
        }
      ]
    },
    {
      "cell_type": "markdown",
      "source": [
        "### 6.4 ) Making and Evaluating Predictions"
      ],
      "metadata": {
        "id": "SpN0i5MelmKh"
      }
    },
    {
      "cell_type": "code",
      "source": [
        "# turn model into evaluation mode\n",
        "model_1.eval()\n",
        "\n",
        "# make predictions on the test data\n",
        "with torch.inference_mode():\n",
        "  y_preds = model_1(X_test)\n",
        "y_preds"
      ],
      "metadata": {
        "colab": {
          "base_uri": "https://localhost:8080/"
        },
        "id": "hXVdiy-LlLBB",
        "outputId": "e42c7277-3a6f-4a89-c0ac-7c98ceda56ea"
      },
      "execution_count": null,
      "outputs": [
        {
          "output_type": "execute_result",
          "data": {
            "text/plain": [
              "tensor([[0.8600],\n",
              "        [0.8739],\n",
              "        [0.8878],\n",
              "        [0.9018],\n",
              "        [0.9157],\n",
              "        [0.9296],\n",
              "        [0.9436],\n",
              "        [0.9575],\n",
              "        [0.9714],\n",
              "        [0.9854]])"
            ]
          },
          "metadata": {},
          "execution_count": 45
        }
      ]
    },
    {
      "cell_type": "code",
      "source": [
        "# Check out our model predictions\n",
        "plot_predictions(predictions = y_preds)"
      ],
      "metadata": {
        "colab": {
          "base_uri": "https://localhost:8080/",
          "height": 472
        },
        "id": "b2UPaYxYlfHg",
        "outputId": "e03dc296-efde-4727-b3ce-554157b712d2"
      },
      "execution_count": null,
      "outputs": [
        {
          "output_type": "display_data",
          "data": {
            "text/plain": [
              "<Figure size 1000x700 with 1 Axes>"
            ],
            "image/png": "[encoded data removed]"
          },
          "metadata": {}
        }
      ]
    },
    {
      "cell_type": "markdown",
      "source": [
        "### 6.5) Saving and loading a trained model"
      ],
      "metadata": {
        "id": "mU8p5ybHnBCS"
      }
    },
    {
      "cell_type": "code",
      "source": [
        "from pathlib import Path\n",
        "\n",
        "#1 . create model directory\n",
        "MODEL_PATH = Path(\"models\")\n",
        "MODEL_PATH.mkdir(parents=True,exist_ok=True)\n",
        "\n",
        "#2 . create model save path\n",
        "MODEL_NAME = \"01_PyTorch_Workflow_model_1.pth\"\n",
        "MODEL_SAVE_PATH = MODEL_PATH/MODEL_NAME\n",
        "\n",
        "MODEL_SAVE_PATH\n",
        "print(f\"saving model to :{MODEL_SAVE_PATH}\")\n",
        "torch.save(obj=model_1.state_dict(),\n",
        "           f=MODEL_SAVE_PATH)"
      ],
      "metadata": {
        "colab": {
          "base_uri": "https://localhost:8080/"
        },
        "id": "-D9o-Ed0m4fJ",
        "outputId": "0021c88f-b40c-489c-967b-4cc6a25f2a55"
      },
      "execution_count": null,
      "outputs": [
        {
          "output_type": "stream",
          "name": "stdout",
          "text": [
            "saving model to :models/01_PyTorch_Workflow_model_1.pth\n"
          ]
        }
      ]
    },
    {
      "cell_type": "code",
      "source": [
        "# Load a PyTorch model\n",
        "\n",
        "# create a new instance of our model\n",
        "loaded_model_1 = LinearRegressionModelV2()\n",
        "\n",
        "# Load the model's saved state_dict()\n",
        "loaded_model_1.load_state_dict(torch.load(MODEL_SAVE_PATH))\n",
        "\n",
        "# Put the loaded model to device\n",
        "loaded_model_1.to(device)"
      ],
      "metadata": {
        "colab": {
          "base_uri": "https://localhost:8080/"
        },
        "id": "NAaJnsX9CD_I",
        "outputId": "edbbccad-281b-4532-86c4-ccb1b420e0b1"
      },
      "execution_count": null,
      "outputs": [
        {
          "output_type": "execute_result",
          "data": {
            "text/plain": [
              "LinearRegressionModelV2(\n",
              "  (linear_layer): Linear(in_features=1, out_features=1, bias=True)\n",
              ")"
            ]
          },
          "metadata": {},
          "execution_count": 49
        }
      ]
    },
    {
      "cell_type": "code",
      "source": [
        "next(loaded_model_1.parameters()).device"
      ],
      "metadata": {
        "colab": {
          "base_uri": "https://localhost:8080/"
        },
        "id": "INccyK9IDIFD",
        "outputId": "f7cc31f8-558f-4f84-9925-34271c7fbcee"
      },
      "execution_count": null,
      "outputs": [
        {
          "output_type": "execute_result",
          "data": {
            "text/plain": [
              "device(type='cpu')"
            ]
          },
          "metadata": {},
          "execution_count": 51
        }
      ]
    },
    {
      "cell_type": "code",
      "source": [
        "loaded_model_1.state_dict()"
      ],
      "metadata": {
        "colab": {
          "base_uri": "https://localhost:8080/"
        },
        "id": "0ixn2d9pDNID",
        "outputId": "c1ab3d02-ef3f-4ce4-c0e3-887a82a20930"
      },
      "execution_count": null,
      "outputs": [
        {
          "output_type": "execute_result",
          "data": {
            "text/plain": [
              "OrderedDict([('linear_layer.weight', tensor([[0.6968]])),\n",
              "             ('linear_layer.bias', tensor([0.3025]))])"
            ]
          },
          "metadata": {},
          "execution_count": 52
        }
      ]
    },
    {
      "cell_type": "code",
      "source": [
        "# evaluate loaded model\n",
        "loaded_model_1.eval()\n",
        "with torch.inference_mode():\n",
        "  loaded_model_1_preds = loaded_model_1(X_test)\n",
        "y_preds == loaded_model_1_preds"
      ],
      "metadata": {
        "colab": {
          "base_uri": "https://localhost:8080/"
        },
        "id": "cA_ufxfHDX5r",
        "outputId": "883bcec6-bcae-4b37-832c-c85b86a0feac"
      },
      "execution_count": null,
      "outputs": [
        {
          "output_type": "execute_result",
          "data": {
            "text/plain": [
              "tensor([[True],\n",
              "        [True],\n",
              "        [True],\n",
              "        [True],\n",
              "        [True],\n",
              "        [True],\n",
              "        [True],\n",
              "        [True],\n",
              "        [True],\n",
              "        [True]])"
            ]
          },
          "metadata": {},
          "execution_count": 54
        }
      ]
    }
  ]
}