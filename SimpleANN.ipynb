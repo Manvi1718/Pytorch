{
  "nbformat": 4,
  "nbformat_minor": 0,
  "metadata": {
    "colab": {
      "provenance": [],
      "authorship_tag": "ABX9TyPzA63jhXrBVEpBH9gYL1p0",
      "include_colab_link": true
    },
    "kernelspec": {
      "name": "python3",
      "display_name": "Python 3"
    },
    "language_info": {
      "name": "python"
    }
  },
  "cells": [
    {
      "cell_type": "markdown",
      "metadata": {
        "id": "view-in-github",
        "colab_type": "text"
      },
      "source": [
        "<a href=\"https://colab.research.google.com/github/Manvi1718/Pytorch/blob/main/SimpleANN.ipynb\" target=\"_parent\"><img src=\"https://colab.research.google.com/assets/colab-badge.svg\" alt=\"Open In Colab\"/></a>"
      ]
    },
    {
      "cell_type": "code",
      "execution_count": 15,
      "metadata": {
        "id": "Aei6yZbD7Dwj"
      },
      "outputs": [],
      "source": [
        "import numpy as np"
      ]
    },
    {
      "cell_type": "code",
      "source": [
        "x =np.array([\n",
        "    [1,0,1,0],\n",
        "    [1,0,1,1],\n",
        "    [0,1,0,1]])\n",
        "\n",
        "y = np.array([[1],[1],[0]])"
      ],
      "metadata": {
        "id": "UMsZ5d2R7jRZ"
      },
      "execution_count": 16,
      "outputs": []
    },
    {
      "cell_type": "code",
      "source": [
        "# ACTIVATION FUNCTION \n",
        "def sigmoid(x):\n",
        "  return 1/(1+np.exp(-x))"
      ],
      "metadata": {
        "id": "kwaYAhYx7-Jz"
      },
      "execution_count": 17,
      "outputs": []
    },
    {
      "cell_type": "code",
      "source": [
        "x.shape"
      ],
      "metadata": {
        "colab": {
          "base_uri": "https://localhost:8080/"
        },
        "id": "8pqKdDMs8J1u",
        "outputId": "91b75be2-363a-4424-dfb0-6be8dab93e84"
      },
      "execution_count": 18,
      "outputs": [
        {
          "output_type": "execute_result",
          "data": {
            "text/plain": [
              "(3, 4)"
            ]
          },
          "metadata": {},
          "execution_count": 18
        }
      ]
    },
    {
      "cell_type": "code",
      "source": [
        "# input layer neurons will always be equal to the number of columns\n",
        "inputNeurons = x.shape[1]\n",
        "# hidden neurons deciding by hit and trial\n",
        "hiddenNeurons = 4\n",
        "# output neurons depend upon  number of classes we have in target column\n",
        "outputNeurons = 1"
      ],
      "metadata": {
        "id": "pc29NIge8MGE"
      },
      "execution_count": 19,
      "outputs": []
    },
    {
      "cell_type": "code",
      "source": [
        "# weights initilisation and bias initialisation\n",
        "weightHidden = np.random.uniform(size=(inputNeurons,hiddenNeurons))\n",
        "biasHidden = np.random.uniform(size=(1,hiddenNeurons))\n",
        "weightOutput = np.random.uniform(size=(hiddenNeurons,outputNeurons))\n",
        "biasOutput = np.random.uniform(size=(1,outputNeurons))"
      ],
      "metadata": {
        "id": "GTktqpv68uU_"
      },
      "execution_count": 20,
      "outputs": []
    },
    {
      "cell_type": "code",
      "source": [
        "#FEEDFORWARD\n",
        "#step 1 : apply dot product and add bias : f(x)=x.wh + biasHiddden\n",
        "fx=np.dot(x,weightHidden) +biasHidden"
      ],
      "metadata": {
        "id": "mZrBAA-z90Jk"
      },
      "execution_count": 21,
      "outputs": []
    },
    {
      "cell_type": "code",
      "source": [
        "# step 2 : applying activation function \n",
        "hiddenLayer = sigmoid(fx)"
      ],
      "metadata": {
        "id": "bUevdHiK-NjS"
      },
      "execution_count": 22,
      "outputs": []
    },
    {
      "cell_type": "code",
      "source": [
        "hiddenLayer"
      ],
      "metadata": {
        "colab": {
          "base_uri": "https://localhost:8080/"
        },
        "id": "QH5x4kQx-YDk",
        "outputId": "946bddfc-ae2d-4db9-cc05-42f05013fcb7"
      },
      "execution_count": 23,
      "outputs": [
        {
          "output_type": "execute_result",
          "data": {
            "text/plain": [
              "array([[0.74708541, 0.82757192, 0.90146991, 0.88670241],\n",
              "       [0.8088436 , 0.83071703, 0.92018135, 0.95039193],\n",
              "       [0.69296689, 0.82921799, 0.80385215, 0.88986814]])"
            ]
          },
          "metadata": {},
          "execution_count": 23
        }
      ]
    },
    {
      "cell_type": "code",
      "source": [
        "# step 3 : aplly dot product and add bias : f(x) = hiddenLayer.wOutput + biasOutput\n",
        "fx_=np.dot(hiddenLayer,weightOutput)+biasOutput"
      ],
      "metadata": {
        "id": "PLMwVxIf-cym"
      },
      "execution_count": 24,
      "outputs": []
    },
    {
      "cell_type": "code",
      "source": [
        "outputLayer = sigmoid(fx_)"
      ],
      "metadata": {
        "id": "CZ8LqfFq-5ez"
      },
      "execution_count": 25,
      "outputs": []
    },
    {
      "cell_type": "code",
      "source": [
        "outputLayer"
      ],
      "metadata": {
        "colab": {
          "base_uri": "https://localhost:8080/"
        },
        "id": "7lCAxnQ0_E2u",
        "outputId": "58c1423b-bd41-4b11-866d-422793a77757"
      },
      "execution_count": 26,
      "outputs": [
        {
          "output_type": "execute_result",
          "data": {
            "text/plain": [
              "array([[0.8018867 ],\n",
              "       [0.81174784],\n",
              "       [0.78968865]])"
            ]
          },
          "metadata": {},
          "execution_count": 26
        }
      ]
    },
    {
      "cell_type": "code",
      "source": [
        "def derivativeSigmoid(x):\n",
        "  return x*(1-x)"
      ],
      "metadata": {
        "id": "A9O1A9dk_KhH"
      },
      "execution_count": 27,
      "outputs": []
    },
    {
      "cell_type": "code",
      "source": [
        "#BACKPROPAGATION\n",
        "\n",
        "#error on output layer\n",
        "errorOutput = outputLayer-y\n",
        "#slope on outputlayer - derivative of activation func applied on this layer\n",
        "slopeOutput = derivativeSigmoid(outputLayer)\n",
        "# delta = error X slope\n",
        "deltaOutput = errorOutput * slopeOutput"
      ],
      "metadata": {
        "id": "8WZBAOD-_WsX"
      },
      "execution_count": 28,
      "outputs": []
    },
    {
      "cell_type": "code",
      "source": [
        "errorHidden = np.dot(deltaOutput,weightOutput.T)\n",
        "slopeHidden = derivativeSigmoid(hiddenLayer)\n",
        "deltaHidden = errorHidden * slopeHidden"
      ],
      "metadata": {
        "id": "uV0rb_N-DkxL"
      },
      "execution_count": 29,
      "outputs": []
    },
    {
      "cell_type": "code",
      "source": [
        "errorOutput"
      ],
      "metadata": {
        "colab": {
          "base_uri": "https://localhost:8080/"
        },
        "id": "Ll5eMAz1EEKR",
        "outputId": "0728f32d-5f9b-443b-ec8f-ab637d6fb528"
      },
      "execution_count": 30,
      "outputs": [
        {
          "output_type": "execute_result",
          "data": {
            "text/plain": [
              "array([[-0.1981133 ],\n",
              "       [-0.18825216],\n",
              "       [ 0.78968865]])"
            ]
          },
          "metadata": {},
          "execution_count": 30
        }
      ]
    },
    {
      "cell_type": "code",
      "source": [
        "alpha = 0.01\n",
        "#weight optimisation\n",
        "weightOutput = weightOutput - hiddenLayer.T.dot(deltaOutput) * alpha\n",
        "weightHidden = weightHidden - x.T.dot(deltaHidden) * alpha\n",
        "#bias optimisation\n",
        "biasOutput = biasOutput - np.sum(deltaOutput) * alpha\n",
        "biasHidden = biasHidden - np.sum(deltaHidden) * alpha "
      ],
      "metadata": {
        "id": "gFim6b_QELcL"
      },
      "execution_count": 31,
      "outputs": []
    },
    {
      "cell_type": "code",
      "source": [
        "# weights initilisation and bias initialisation\n",
        "weightHidden = np.random.uniform(size=(inputNeurons,hiddenNeurons))\n",
        "biasHidden = np.random.uniform(size=(1,hiddenNeurons))\n",
        "weightOutput = np.random.uniform(size=(hiddenNeurons,outputNeurons))\n",
        "biasOutput = np.random.uniform(size=(1,outputNeurons))\n",
        "\n",
        "alpha = 0.09\n",
        "epochs = 40000\n",
        "\n",
        "for i in range(epochs):\n",
        "  #FEEDFORWARD\n",
        "\n",
        "  #step 1 : apply dot product and add bias : f(x)=x.wh + biasHiddden\n",
        "  fx=np.dot(x,weightHidden) +biasHidden\n",
        "  # step 2 : applying activation function \n",
        "  hiddenLayer = sigmoid(fx)\n",
        "  # step 3 : aplly dot product and add bias : f(x) = hiddenLayer.wOutput + biasOutput\n",
        "  fx_=np.dot(hiddenLayer,weightOutput)+biasOutput\n",
        "  # step 4 : applying activation func to output layer\n",
        "  outputLayer = sigmoid(fx_)\n",
        "\n",
        "  #BACKPROPAGATION\n",
        "\n",
        "  #error on output layer\n",
        "  errorOutput = outputLayer-y\n",
        "  #slope on outputlayer - derivative of activation func applied on this layer\n",
        "  slopeOutput = derivativeSigmoid(outputLayer)\n",
        "  # delta = error X slope\n",
        "  deltaOutput = errorOutput * slopeOutput\n",
        "  # error calculation for hidden layer\n",
        "  errorHidden = np.dot(deltaOutput,weightOutput.T)\n",
        "  slopeHidden = derivativeSigmoid(hiddenLayer)\n",
        "  deltaHidden = errorHidden * slopeHidden\n",
        "  #OPTIMISATION\n",
        "  #weight optimisation\n",
        "  weightOutput = weightOutput - hiddenLayer.T.dot(deltaOutput) * alpha\n",
        "  weightHidden = weightHidden - x.T.dot(deltaHidden) * alpha\n",
        "  #bias optimisation\n",
        "  biasOutput = biasOutput - np.sum(deltaOutput) * alpha\n",
        "  biasHidden = biasHidden - np.sum(deltaHidden) * alpha \n",
        "print(outputLayer)"
      ],
      "metadata": {
        "colab": {
          "base_uri": "https://localhost:8080/"
        },
        "id": "JeX9jxwZH4Zv",
        "outputId": "d7ae59d5-0ed8-4fe6-eb85-40f9e6814f50"
      },
      "execution_count": 41,
      "outputs": [
        {
          "output_type": "stream",
          "name": "stdout",
          "text": [
            "[[0.99540814]\n",
            " [0.99190403]\n",
            " [0.01207735]]\n"
          ]
        }
      ]
    }
  ]
}