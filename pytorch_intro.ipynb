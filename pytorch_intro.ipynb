{
  "nbformat": 4,
  "nbformat_minor": 0,
  "metadata": {
    "colab": {
      "provenance": [],
      "authorship_tag": "ABX9TyNjfHWs+tEna5uYGjipL1xP",
      "include_colab_link": true
    },
    "kernelspec": {
      "name": "python3",
      "display_name": "Python 3"
    },
    "language_info": {
      "name": "python"
    }
  },
  "cells": [
    {
      "cell_type": "markdown",
      "metadata": {
        "id": "view-in-github",
        "colab_type": "text"
      },
      "source": [
        "<a href=\"https://colab.research.google.com/github/Manvi1718/Pytorch/blob/main/pytorch_intro.ipynb\" target=\"_parent\"><img src=\"https://colab.research.google.com/assets/colab-badge.svg\" alt=\"Open In Colab\"/></a>"
      ]
    },
    {
      "cell_type": "code",
      "execution_count": 1,
      "metadata": {
        "id": "z3xSWopbLO26"
      },
      "outputs": [],
      "source": [
        "import numpy as np\n",
        "import torch"
      ]
    },
    {
      "cell_type": "code",
      "source": [
        "torch.__version__"
      ],
      "metadata": {
        "colab": {
          "base_uri": "https://localhost:8080/",
          "height": 36
        },
        "id": "qduVXKtlOmzT",
        "outputId": "5a4b3768-2fe1-4a2e-80c5-734ea290807e"
      },
      "execution_count": 2,
      "outputs": [
        {
          "output_type": "execute_result",
          "data": {
            "text/plain": [
              "'2.0.1+cu118'"
            ],
            "application/vnd.google.colaboratory.intrinsic+json": {
              "type": "string"
            }
          },
          "metadata": {},
          "execution_count": 2
        }
      ]
    },
    {
      "cell_type": "code",
      "source": [
        "data = [[1,2,4],[6,4,8],[6,6,8],[7,9,2]]\n",
        "x_tensor =torch.tensor(data)"
      ],
      "metadata": {
        "id": "_53Hvn96Os7S"
      },
      "execution_count": 4,
      "outputs": []
    },
    {
      "cell_type": "code",
      "source": [
        "x_tensor"
      ],
      "metadata": {
        "colab": {
          "base_uri": "https://localhost:8080/"
        },
        "id": "WqyXdDnBPQkA",
        "outputId": "4907c252-b070-42b0-b8ce-95ef8e964182"
      },
      "execution_count": 5,
      "outputs": [
        {
          "output_type": "execute_result",
          "data": {
            "text/plain": [
              "tensor([[1, 2, 4],\n",
              "        [6, 4, 8],\n",
              "        [6, 6, 8],\n",
              "        [7, 9, 2]])"
            ]
          },
          "metadata": {},
          "execution_count": 5
        }
      ]
    },
    {
      "cell_type": "code",
      "source": [
        "x_tensor.size()   # to calculate dimension"
      ],
      "metadata": {
        "colab": {
          "base_uri": "https://localhost:8080/"
        },
        "id": "lnla6RJfPcD0",
        "outputId": "5316975c-c9dd-4970-9827-2f2dc4e5ce97"
      },
      "execution_count": 7,
      "outputs": [
        {
          "output_type": "execute_result",
          "data": {
            "text/plain": [
              "torch.Size([4, 3])"
            ]
          },
          "metadata": {},
          "execution_count": 7
        }
      ]
    },
    {
      "cell_type": "code",
      "source": [
        "scaler = torch.tensor(5)"
      ],
      "metadata": {
        "id": "Xdbo0vtWPqkj"
      },
      "execution_count": 10,
      "outputs": []
    },
    {
      "cell_type": "code",
      "source": [
        "scaler"
      ],
      "metadata": {
        "colab": {
          "base_uri": "https://localhost:8080/"
        },
        "id": "Q8gQ9ipZP0KY",
        "outputId": "5bc336c3-bb60-46b3-e939-74149e48c344"
      },
      "execution_count": 11,
      "outputs": [
        {
          "output_type": "execute_result",
          "data": {
            "text/plain": [
              "tensor(5)"
            ]
          },
          "metadata": {},
          "execution_count": 11
        }
      ]
    },
    {
      "cell_type": "code",
      "source": [
        "scaler.item()"
      ],
      "metadata": {
        "colab": {
          "base_uri": "https://localhost:8080/"
        },
        "id": "bcLig3JXP2is",
        "outputId": "acfeda6a-569e-481f-ec57-11908961d4cf"
      },
      "execution_count": 12,
      "outputs": [
        {
          "output_type": "execute_result",
          "data": {
            "text/plain": [
              "5"
            ]
          },
          "metadata": {},
          "execution_count": 12
        }
      ]
    },
    {
      "cell_type": "code",
      "source": [
        "vector = torch.tensor([5,4])\n",
        "vector"
      ],
      "metadata": {
        "colab": {
          "base_uri": "https://localhost:8080/"
        },
        "id": "YKV0-sjNP9g1",
        "outputId": "f602c3e8-d0cd-4098-ccbf-890893156f39"
      },
      "execution_count": 13,
      "outputs": [
        {
          "output_type": "execute_result",
          "data": {
            "text/plain": [
              "tensor([5, 4])"
            ]
          },
          "metadata": {},
          "execution_count": 13
        }
      ]
    },
    {
      "cell_type": "markdown",
      "source": [
        "* scaler - single number\n",
        "* vector - 1D array\n",
        "* matrix - 2D array \n",
        "* tensor - ND array"
      ],
      "metadata": {
        "id": "tOg7NpPwQaWO"
      }
    },
    {
      "cell_type": "code",
      "source": [
        "# array of 0s we pass dim in bracket\n",
        "torch.zeros((4,6))   "
      ],
      "metadata": {
        "colab": {
          "base_uri": "https://localhost:8080/"
        },
        "id": "m0uuOrHNQpmd",
        "outputId": "421e8ca9-3bec-4139-cf99-482b4c5acf0b"
      },
      "execution_count": 15,
      "outputs": [
        {
          "output_type": "execute_result",
          "data": {
            "text/plain": [
              "tensor([[0., 0., 0., 0., 0., 0.],\n",
              "        [0., 0., 0., 0., 0., 0.],\n",
              "        [0., 0., 0., 0., 0., 0.],\n",
              "        [0., 0., 0., 0., 0., 0.]])"
            ]
          },
          "metadata": {},
          "execution_count": 15
        }
      ]
    },
    {
      "cell_type": "code",
      "source": [
        "# array of 1s we pass dim in bracket\n",
        "torch.ones((4,4))"
      ],
      "metadata": {
        "colab": {
          "base_uri": "https://localhost:8080/"
        },
        "id": "MWl--NYVRIF4",
        "outputId": "ba0048b9-a1c8-4084-a061-2afdf7cbdccf"
      },
      "execution_count": 17,
      "outputs": [
        {
          "output_type": "execute_result",
          "data": {
            "text/plain": [
              "tensor([[1., 1., 1., 1.],\n",
              "        [1., 1., 1., 1.],\n",
              "        [1., 1., 1., 1.],\n",
              "        [1., 1., 1., 1.]])"
            ]
          },
          "metadata": {},
          "execution_count": 17
        }
      ]
    },
    {
      "cell_type": "code",
      "source": [
        "torch.rand(6)"
      ],
      "metadata": {
        "colab": {
          "base_uri": "https://localhost:8080/"
        },
        "id": "Y4iSzzmpRS3b",
        "outputId": "6a4ed63b-906c-46cd-aad0-baf57993551f"
      },
      "execution_count": 18,
      "outputs": [
        {
          "output_type": "execute_result",
          "data": {
            "text/plain": [
              "tensor([0.8530, 0.4159, 0.7905, 0.1901, 0.0856, 0.4062])"
            ]
          },
          "metadata": {},
          "execution_count": 18
        }
      ]
    },
    {
      "cell_type": "code",
      "source": [
        "# random values between 0 and 1\n",
        "torch.rand((4,6))"
      ],
      "metadata": {
        "colab": {
          "base_uri": "https://localhost:8080/"
        },
        "id": "412D2BNBRVUm",
        "outputId": "cd46ce7a-c64a-458c-d584-018ed49e08ba"
      },
      "execution_count": 19,
      "outputs": [
        {
          "output_type": "execute_result",
          "data": {
            "text/plain": [
              "tensor([[0.9490, 0.4960, 0.7115, 0.9459, 0.8861, 0.3130],\n",
              "        [0.8553, 0.5754, 0.2079, 0.7128, 0.0306, 0.8553],\n",
              "        [0.0689, 0.9997, 0.6749, 0.4654, 0.5431, 0.1606],\n",
              "        [0.5473, 0.8089, 0.5880, 0.4414, 0.1406, 0.7841]])"
            ]
          },
          "metadata": {},
          "execution_count": 19
        }
      ]
    },
    {
      "cell_type": "code",
      "source": [
        "tensor1 = torch.tensor([2,4,6])"
      ],
      "metadata": {
        "id": "0RSFZpqWRhNs"
      },
      "execution_count": 24,
      "outputs": []
    },
    {
      "cell_type": "code",
      "source": [
        "tensor1"
      ],
      "metadata": {
        "colab": {
          "base_uri": "https://localhost:8080/"
        },
        "id": "5Wyl_qUbVpws",
        "outputId": "9d66ab44-d151-4376-f669-02dedb09969b"
      },
      "execution_count": 25,
      "outputs": [
        {
          "output_type": "execute_result",
          "data": {
            "text/plain": [
              "tensor([2, 4, 6])"
            ]
          },
          "metadata": {},
          "execution_count": 25
        }
      ]
    },
    {
      "cell_type": "code",
      "source": [
        "# addition by scaler\n",
        "tensor1 + 5"
      ],
      "metadata": {
        "colab": {
          "base_uri": "https://localhost:8080/"
        },
        "id": "ZjUlBpaqVrlY",
        "outputId": "2e849fe2-8129-4266-c9f0-0ef458e81e98"
      },
      "execution_count": 26,
      "outputs": [
        {
          "output_type": "execute_result",
          "data": {
            "text/plain": [
              "tensor([ 7,  9, 11])"
            ]
          },
          "metadata": {},
          "execution_count": 26
        }
      ]
    },
    {
      "cell_type": "code",
      "source": [
        "#multiplication by scaler\n",
        "tensor1 * 5"
      ],
      "metadata": {
        "colab": {
          "base_uri": "https://localhost:8080/"
        },
        "id": "oPL3Xyl8Vzor",
        "outputId": "c95c5be5-4e4e-49bf-8cb2-e2053f3cd2e2"
      },
      "execution_count": 27,
      "outputs": [
        {
          "output_type": "execute_result",
          "data": {
            "text/plain": [
              "tensor([10, 20, 30])"
            ]
          },
          "metadata": {},
          "execution_count": 27
        }
      ]
    },
    {
      "cell_type": "code",
      "source": [
        "tensor2 = torch.tensor([1,2,3])"
      ],
      "metadata": {
        "id": "q1_cXRIXV2jg"
      },
      "execution_count": 28,
      "outputs": []
    },
    {
      "cell_type": "code",
      "source": [
        "# add of 2 tensor\n",
        "tensor1+tensor2"
      ],
      "metadata": {
        "colab": {
          "base_uri": "https://localhost:8080/"
        },
        "id": "dlFoF_tiV6r2",
        "outputId": "888ed3ef-f819-4e58-c47d-1785766546a7"
      },
      "execution_count": 29,
      "outputs": [
        {
          "output_type": "execute_result",
          "data": {
            "text/plain": [
              "tensor([3, 6, 9])"
            ]
          },
          "metadata": {},
          "execution_count": 29
        }
      ]
    },
    {
      "cell_type": "code",
      "source": [
        "# mul of 2 tensor\n",
        "tensor1*tensor2   "
      ],
      "metadata": {
        "colab": {
          "base_uri": "https://localhost:8080/"
        },
        "id": "4o4JmRomV9FI",
        "outputId": "3b1a8b57-1b4a-4390-edd6-6a7c7f3035f4"
      },
      "execution_count": 30,
      "outputs": [
        {
          "output_type": "execute_result",
          "data": {
            "text/plain": [
              "tensor([ 2,  8, 18])"
            ]
          },
          "metadata": {},
          "execution_count": 30
        }
      ]
    },
    {
      "cell_type": "code",
      "source": [
        "x = torch.tensor([\n",
        "    [1,2,3,4],\n",
        "    [5,4,6,6],\n",
        "    [1,5,3,7]\n",
        "])\n",
        "y = torch.tensor([\n",
        "    [9,21,13,14],\n",
        "    [1,7,4,2],\n",
        "    [1,5,3,7]\n",
        "])"
      ],
      "metadata": {
        "id": "TMxngrlDWCoS"
      },
      "execution_count": 31,
      "outputs": []
    },
    {
      "cell_type": "code",
      "source": [
        "x+y"
      ],
      "metadata": {
        "colab": {
          "base_uri": "https://localhost:8080/"
        },
        "id": "i4-HlfcCW1dS",
        "outputId": "a0f24822-7983-48d1-e0b4-f6a719c7690d"
      },
      "execution_count": 32,
      "outputs": [
        {
          "output_type": "execute_result",
          "data": {
            "text/plain": [
              "tensor([[10, 23, 16, 18],\n",
              "        [ 6, 11, 10,  8],\n",
              "        [ 2, 10,  6, 14]])"
            ]
          },
          "metadata": {},
          "execution_count": 32
        }
      ]
    },
    {
      "cell_type": "code",
      "source": [
        "x*y"
      ],
      "metadata": {
        "colab": {
          "base_uri": "https://localhost:8080/"
        },
        "id": "O8hmX1DzW33Z",
        "outputId": "362300d8-1cbe-4723-ac6b-1d4c8c052357"
      },
      "execution_count": 38,
      "outputs": [
        {
          "output_type": "execute_result",
          "data": {
            "text/plain": [
              "tensor([[ 9, 42, 39, 56],\n",
              "        [ 5, 28, 24, 12],\n",
              "        [ 1, 25,  9, 49]])"
            ]
          },
          "metadata": {},
          "execution_count": 38
        }
      ]
    },
    {
      "cell_type": "code",
      "source": [
        "%%time\n",
        "# matrix multiplication\n",
        "torch.matmul(x,y.T)"
      ],
      "metadata": {
        "colab": {
          "base_uri": "https://localhost:8080/"
        },
        "id": "a3Ej2lCKW5rf",
        "outputId": "9f31469f-e499-4b19-f093-05f1cddd2776"
      },
      "execution_count": 36,
      "outputs": [
        {
          "output_type": "stream",
          "name": "stdout",
          "text": [
            "CPU times: user 148 µs, sys: 7 µs, total: 155 µs\n",
            "Wall time: 160 µs\n"
          ]
        },
        {
          "output_type": "execute_result",
          "data": {
            "text/plain": [
              "tensor([[146,  35,  48],\n",
              "        [291,  69,  85],\n",
              "        [251,  62,  84]])"
            ]
          },
          "metadata": {},
          "execution_count": 36
        }
      ]
    },
    {
      "cell_type": "code",
      "source": [
        "%%time\n",
        "# matrix multiplication\n",
        "x @ y.T"
      ],
      "metadata": {
        "colab": {
          "base_uri": "https://localhost:8080/"
        },
        "id": "1mfJsuzdXDWB",
        "outputId": "7a0ae376-891a-4a69-cf21-00c7966418ad"
      },
      "execution_count": 39,
      "outputs": [
        {
          "output_type": "stream",
          "name": "stdout",
          "text": [
            "CPU times: user 148 µs, sys: 7 µs, total: 155 µs\n",
            "Wall time: 160 µs\n"
          ]
        },
        {
          "output_type": "execute_result",
          "data": {
            "text/plain": [
              "tensor([[146,  35,  48],\n",
              "        [291,  69,  85],\n",
              "        [251,  62,  84]])"
            ]
          },
          "metadata": {},
          "execution_count": 39
        }
      ]
    },
    {
      "cell_type": "code",
      "source": [
        "# matrix multiplication\n",
        "torch.mm(x,y.T)"
      ],
      "metadata": {
        "colab": {
          "base_uri": "https://localhost:8080/"
        },
        "id": "foaRiWfvXcHR",
        "outputId": "f2db4f62-7a3a-4c48-fdc9-2c9fc4697d3f"
      },
      "execution_count": 41,
      "outputs": [
        {
          "output_type": "execute_result",
          "data": {
            "text/plain": [
              "tensor([[146,  35,  48],\n",
              "        [291,  69,  85],\n",
              "        [251,  62,  84]])"
            ]
          },
          "metadata": {},
          "execution_count": 41
        }
      ]
    },
    {
      "cell_type": "code",
      "source": [
        "# generate a tensor and we provide a range\n",
        "torch.arange(1,10)"
      ],
      "metadata": {
        "colab": {
          "base_uri": "https://localhost:8080/"
        },
        "id": "9dehTM9bX02F",
        "outputId": "36bdfe73-6c39-481f-dc61-8fe88ad2a93a"
      },
      "execution_count": 42,
      "outputs": [
        {
          "output_type": "execute_result",
          "data": {
            "text/plain": [
              "tensor([1, 2, 3, 4, 5, 6, 7, 8, 9])"
            ]
          },
          "metadata": {},
          "execution_count": 42
        }
      ]
    },
    {
      "cell_type": "code",
      "source": [
        "# linspace is used to generate tensor by providing range with number of number need to generate\n",
        "torch.linspace(1,100,99)"
      ],
      "metadata": {
        "colab": {
          "base_uri": "https://localhost:8080/"
        },
        "id": "k-gcKWDDYKIF",
        "outputId": "9d632f77-4d3d-4442-ec20-00255900442c"
      },
      "execution_count": 45,
      "outputs": [
        {
          "output_type": "execute_result",
          "data": {
            "text/plain": [
              "tensor([  1.0000,   2.0102,   3.0204,   4.0306,   5.0408,   6.0510,   7.0612,\n",
              "          8.0714,   9.0816,  10.0918,  11.1020,  12.1122,  13.1224,  14.1327,\n",
              "         15.1429,  16.1531,  17.1633,  18.1735,  19.1837,  20.1939,  21.2041,\n",
              "         22.2143,  23.2245,  24.2347,  25.2449,  26.2551,  27.2653,  28.2755,\n",
              "         29.2857,  30.2959,  31.3061,  32.3163,  33.3265,  34.3367,  35.3469,\n",
              "         36.3571,  37.3673,  38.3776,  39.3878,  40.3980,  41.4082,  42.4184,\n",
              "         43.4286,  44.4388,  45.4490,  46.4592,  47.4694,  48.4796,  49.4898,\n",
              "         50.5000,  51.5102,  52.5204,  53.5306,  54.5408,  55.5510,  56.5612,\n",
              "         57.5714,  58.5816,  59.5918,  60.6020,  61.6122,  62.6224,  63.6327,\n",
              "         64.6429,  65.6531,  66.6633,  67.6735,  68.6837,  69.6939,  70.7041,\n",
              "         71.7143,  72.7245,  73.7347,  74.7449,  75.7551,  76.7653,  77.7755,\n",
              "         78.7857,  79.7959,  80.8061,  81.8163,  82.8265,  83.8367,  84.8469,\n",
              "         85.8571,  86.8673,  87.8775,  88.8878,  89.8980,  90.9082,  91.9184,\n",
              "         92.9286,  93.9388,  94.9490,  95.9592,  96.9694,  97.9796,  98.9898,\n",
              "        100.0000])"
            ]
          },
          "metadata": {},
          "execution_count": 45
        }
      ]
    },
    {
      "cell_type": "code",
      "source": [
        "torch.randint(1,10,size=(3,4))"
      ],
      "metadata": {
        "colab": {
          "base_uri": "https://localhost:8080/"
        },
        "id": "SKuDkyZWYWJj",
        "outputId": "85580f43-e66c-403a-c064-17f516df88b0"
      },
      "execution_count": 51,
      "outputs": [
        {
          "output_type": "execute_result",
          "data": {
            "text/plain": [
              "tensor([[2, 5, 7, 2],\n",
              "        [2, 9, 9, 5],\n",
              "        [3, 5, 9, 1]])"
            ]
          },
          "metadata": {},
          "execution_count": 51
        }
      ]
    },
    {
      "cell_type": "code",
      "source": [
        "x =torch.randint(1,100,size=(20,))"
      ],
      "metadata": {
        "id": "5JmYLZVhZtSt"
      },
      "execution_count": 62,
      "outputs": []
    },
    {
      "cell_type": "code",
      "source": [
        "x.min()"
      ],
      "metadata": {
        "colab": {
          "base_uri": "https://localhost:8080/"
        },
        "id": "DkYWALflZ3q6",
        "outputId": "23d78726-3325-4f15-e1fc-89d057adb1a9"
      },
      "execution_count": 63,
      "outputs": [
        {
          "output_type": "execute_result",
          "data": {
            "text/plain": [
              "tensor(1)"
            ]
          },
          "metadata": {},
          "execution_count": 63
        }
      ]
    },
    {
      "cell_type": "code",
      "source": [
        "x.max()"
      ],
      "metadata": {
        "colab": {
          "base_uri": "https://localhost:8080/"
        },
        "id": "WYJ5bHmeap4Y",
        "outputId": "46110471-21ab-41d0-cf5a-ad8a9b3fa772"
      },
      "execution_count": 64,
      "outputs": [
        {
          "output_type": "execute_result",
          "data": {
            "text/plain": [
              "tensor(96)"
            ]
          },
          "metadata": {},
          "execution_count": 64
        }
      ]
    },
    {
      "cell_type": "code",
      "source": [
        "x.type(torch.float32).mean()"
      ],
      "metadata": {
        "colab": {
          "base_uri": "https://localhost:8080/"
        },
        "id": "hjfEYg1larR7",
        "outputId": "990395f2-661c-4724-cdf9-53d622b2474c"
      },
      "execution_count": 65,
      "outputs": [
        {
          "output_type": "execute_result",
          "data": {
            "text/plain": [
              "tensor(53.9000)"
            ]
          },
          "metadata": {},
          "execution_count": 65
        }
      ]
    },
    {
      "cell_type": "code",
      "source": [
        "# changes the data arrangement\n",
        "y = x.reshape(4,5)"
      ],
      "metadata": {
        "id": "f9ribHz3a5CX"
      },
      "execution_count": 67,
      "outputs": []
    },
    {
      "cell_type": "code",
      "source": [
        "# original data as it is with different dim\n",
        "x.view(5,4)"
      ],
      "metadata": {
        "colab": {
          "base_uri": "https://localhost:8080/"
        },
        "id": "-a-swJAQbQA3",
        "outputId": "7beff9dc-7b97-418d-aa35-acf2d5422ece"
      },
      "execution_count": 69,
      "outputs": [
        {
          "output_type": "execute_result",
          "data": {
            "text/plain": [
              "tensor([[14, 61, 48, 89],\n",
              "        [ 1, 95, 36, 34],\n",
              "        [93, 68, 70,  5],\n",
              "        [13, 31, 69, 53],\n",
              "        [96, 24, 88, 90]])"
            ]
          },
          "metadata": {},
          "execution_count": 69
        }
      ]
    },
    {
      "cell_type": "code",
      "source": [
        "y"
      ],
      "metadata": {
        "colab": {
          "base_uri": "https://localhost:8080/"
        },
        "id": "XTLH9goCbWwm",
        "outputId": "122a9aa3-9c9e-4780-f7ca-148a34bda65c"
      },
      "execution_count": 72,
      "outputs": [
        {
          "output_type": "execute_result",
          "data": {
            "text/plain": [
              "tensor([[14, 61, 48, 89,  1],\n",
              "        [95, 36, 34, 93, 68],\n",
              "        [70,  5, 13, 31, 69],\n",
              "        [53, 96, 24, 88, 90]])"
            ]
          },
          "metadata": {},
          "execution_count": 72
        }
      ]
    },
    {
      "cell_type": "code",
      "source": [
        "y[0]"
      ],
      "metadata": {
        "colab": {
          "base_uri": "https://localhost:8080/"
        },
        "id": "ulQ-CWNLb2hG",
        "outputId": "63538581-07fd-40b4-cfec-480f504ae867"
      },
      "execution_count": 73,
      "outputs": [
        {
          "output_type": "execute_result",
          "data": {
            "text/plain": [
              "tensor([14, 61, 48, 89,  1])"
            ]
          },
          "metadata": {},
          "execution_count": 73
        }
      ]
    },
    {
      "cell_type": "code",
      "source": [
        "y[:,0]"
      ],
      "metadata": {
        "colab": {
          "base_uri": "https://localhost:8080/"
        },
        "id": "s3eflJ1Hb6Ox",
        "outputId": "e151a912-1977-448e-9a0b-b10def92f2c4"
      },
      "execution_count": 74,
      "outputs": [
        {
          "output_type": "execute_result",
          "data": {
            "text/plain": [
              "tensor([14, 95, 70, 53])"
            ]
          },
          "metadata": {},
          "execution_count": 74
        }
      ]
    },
    {
      "cell_type": "code",
      "source": [
        "y[0:3,0:2]"
      ],
      "metadata": {
        "colab": {
          "base_uri": "https://localhost:8080/"
        },
        "id": "uslc8IKyb-fy",
        "outputId": "9920a754-271c-459e-d193-294f65b27edb"
      },
      "execution_count": 75,
      "outputs": [
        {
          "output_type": "execute_result",
          "data": {
            "text/plain": [
              "tensor([[14, 61],\n",
              "        [95, 36],\n",
              "        [70,  5]])"
            ]
          },
          "metadata": {},
          "execution_count": 75
        }
      ]
    },
    {
      "cell_type": "code",
      "source": [],
      "metadata": {
        "id": "CB4C_Jq2cDYI"
      },
      "execution_count": null,
      "outputs": []
    }
  ]
}