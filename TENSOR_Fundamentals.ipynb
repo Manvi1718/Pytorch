{
  "nbformat": 4,
  "nbformat_minor": 0,
  "metadata": {
    "colab": {
      "provenance": [],
      "gpuType": "T4",
      "authorship_tag": "ABX9TyPukItpKPcUBn7baLXdP2cO",
      "include_colab_link": true
    },
    "kernelspec": {
      "name": "python3",
      "display_name": "Python 3"
    },
    "language_info": {
      "name": "python"
    },
    "accelerator": "GPU"
  },
  "cells": [
    {
      "cell_type": "markdown",
      "metadata": {
        "id": "view-in-github",
        "colab_type": "text"
      },
      "source": [
        "<a href=\"https://colab.research.google.com/github/Manvi1718/Pytorch/blob/main/TENSOR_Fundamentals.ipynb\" target=\"_parent\"><img src=\"https://colab.research.google.com/assets/colab-badge.svg\" alt=\"Open In Colab\"/></a>"
      ]
    },
    {
      "cell_type": "markdown",
      "source": [
        "#**TENSORS** Fundamentals"
      ],
      "metadata": {
        "id": "cLMzP7fpwzSv"
      }
    },
    {
      "cell_type": "markdown",
      "source": [
        "###Creating Tensors"
      ],
      "metadata": {
        "id": "rYK8dscfxIhF"
      }
    },
    {
      "cell_type": "code",
      "source": [
        "import torch\n",
        "import numpy as np\n",
        "import matplotlib.pyplot as plt"
      ],
      "metadata": {
        "id": "XUrJFZ3-9T46"
      },
      "execution_count": null,
      "outputs": []
    },
    {
      "cell_type": "code",
      "source": [
        "#saclar\n",
        "scalar = torch.tensor(18)\n",
        "scalar"
      ],
      "metadata": {
        "colab": {
          "base_uri": "https://localhost:8080/"
        },
        "id": "MVCtwXpEw0XB",
        "outputId": "4e9d41e7-ae7c-41e4-8165-5af74a6fce56"
      },
      "execution_count": null,
      "outputs": [
        {
          "output_type": "execute_result",
          "data": {
            "text/plain": [
              "tensor(18)"
            ]
          },
          "metadata": {},
          "execution_count": 2
        }
      ]
    },
    {
      "cell_type": "code",
      "source": [
        "scalar.ndim"
      ],
      "metadata": {
        "colab": {
          "base_uri": "https://localhost:8080/"
        },
        "id": "MTV84w9D9Qmd",
        "outputId": "b0a80b38-e1de-4aa1-cb96-0d19c33341a7"
      },
      "execution_count": null,
      "outputs": [
        {
          "output_type": "execute_result",
          "data": {
            "text/plain": [
              "0"
            ]
          },
          "metadata": {},
          "execution_count": 3
        }
      ]
    },
    {
      "cell_type": "code",
      "source": [
        "# get tensor as int of python\n",
        "scalar.item()"
      ],
      "metadata": {
        "colab": {
          "base_uri": "https://localhost:8080/"
        },
        "id": "jO0Cbn9l9vDx",
        "outputId": "8b8f2e3e-08ba-4b61-9b27-94fd8eb30b2d"
      },
      "execution_count": null,
      "outputs": [
        {
          "output_type": "execute_result",
          "data": {
            "text/plain": [
              "18"
            ]
          },
          "metadata": {},
          "execution_count": 4
        }
      ]
    },
    {
      "cell_type": "code",
      "source": [
        "# Vector\n",
        "vector = torch.tensor([17,18])\n",
        "vector"
      ],
      "metadata": {
        "colab": {
          "base_uri": "https://localhost:8080/"
        },
        "id": "OvBQv5ve-L-p",
        "outputId": "3582b4ba-0b3e-491d-8d75-75a85f1b342d"
      },
      "execution_count": null,
      "outputs": [
        {
          "output_type": "execute_result",
          "data": {
            "text/plain": [
              "tensor([17, 18])"
            ]
          },
          "metadata": {},
          "execution_count": 5
        }
      ]
    },
    {
      "cell_type": "code",
      "source": [
        "vector.ndim"
      ],
      "metadata": {
        "colab": {
          "base_uri": "https://localhost:8080/"
        },
        "id": "48BdHoiU-YbB",
        "outputId": "4f7afaf4-6c7a-42d6-fd75-ecd7d4db2ba0"
      },
      "execution_count": null,
      "outputs": [
        {
          "output_type": "execute_result",
          "data": {
            "text/plain": [
              "1"
            ]
          },
          "metadata": {},
          "execution_count": 6
        }
      ]
    },
    {
      "cell_type": "code",
      "source": [
        "vector.shape"
      ],
      "metadata": {
        "colab": {
          "base_uri": "https://localhost:8080/"
        },
        "id": "yF9LMC9H-ioy",
        "outputId": "f5f3f501-fdec-4d1c-90fa-4c5f62e815b7"
      },
      "execution_count": null,
      "outputs": [
        {
          "output_type": "execute_result",
          "data": {
            "text/plain": [
              "torch.Size([2])"
            ]
          },
          "metadata": {},
          "execution_count": 7
        }
      ]
    },
    {
      "cell_type": "code",
      "source": [
        "# MATRIX\n",
        "matrix = torch.tensor([[1,2],\n",
        "                       [3,4]])\n",
        "matrix"
      ],
      "metadata": {
        "colab": {
          "base_uri": "https://localhost:8080/"
        },
        "id": "pLSrIkww-o1F",
        "outputId": "f7e6e45a-ad01-4c22-fdbf-e9bccdd0089f"
      },
      "execution_count": null,
      "outputs": [
        {
          "output_type": "execute_result",
          "data": {
            "text/plain": [
              "tensor([[1, 2],\n",
              "        [3, 4]])"
            ]
          },
          "metadata": {},
          "execution_count": 8
        }
      ]
    },
    {
      "cell_type": "code",
      "source": [
        "matrix.ndim"
      ],
      "metadata": {
        "colab": {
          "base_uri": "https://localhost:8080/"
        },
        "id": "A9xBgBPk-5jJ",
        "outputId": "915fab81-ef3e-4e2f-9d6b-465f9dd54d6c"
      },
      "execution_count": null,
      "outputs": [
        {
          "output_type": "execute_result",
          "data": {
            "text/plain": [
              "2"
            ]
          },
          "metadata": {},
          "execution_count": 9
        }
      ]
    },
    {
      "cell_type": "code",
      "source": [
        "matrix.shape"
      ],
      "metadata": {
        "colab": {
          "base_uri": "https://localhost:8080/"
        },
        "id": "Es-Qe2wT-8u6",
        "outputId": "47883064-de1a-43d6-e0d5-49809e7c089c"
      },
      "execution_count": null,
      "outputs": [
        {
          "output_type": "execute_result",
          "data": {
            "text/plain": [
              "torch.Size([2, 2])"
            ]
          },
          "metadata": {},
          "execution_count": 10
        }
      ]
    },
    {
      "cell_type": "code",
      "source": [
        "matrix[:,1]"
      ],
      "metadata": {
        "colab": {
          "base_uri": "https://localhost:8080/"
        },
        "id": "xZLRtk41-973",
        "outputId": "3fa46e51-1c5b-4ca0-8d8e-7e95f09dcc10"
      },
      "execution_count": null,
      "outputs": [
        {
          "output_type": "execute_result",
          "data": {
            "text/plain": [
              "tensor([2, 4])"
            ]
          },
          "metadata": {},
          "execution_count": 11
        }
      ]
    },
    {
      "cell_type": "code",
      "source": [
        "# TENSOR\n",
        "tensor = torch.tensor([[[1,2,3],[4,5,6],[7,8,9]],\n",
        "                       [[1,2,3],[4,5,6],[7,8,9]]])\n",
        "tensor"
      ],
      "metadata": {
        "colab": {
          "base_uri": "https://localhost:8080/"
        },
        "id": "QqJDp1iZ_CeN",
        "outputId": "5d62afe9-9657-4a82-b7e4-a61607dd5224"
      },
      "execution_count": null,
      "outputs": [
        {
          "output_type": "execute_result",
          "data": {
            "text/plain": [
              "tensor([[[1, 2, 3],\n",
              "         [4, 5, 6],\n",
              "         [7, 8, 9]],\n",
              "\n",
              "        [[1, 2, 3],\n",
              "         [4, 5, 6],\n",
              "         [7, 8, 9]]])"
            ]
          },
          "metadata": {},
          "execution_count": 12
        }
      ]
    },
    {
      "cell_type": "code",
      "source": [
        "tensor.ndim"
      ],
      "metadata": {
        "colab": {
          "base_uri": "https://localhost:8080/"
        },
        "id": "5_-WG9dE_YaH",
        "outputId": "7100898c-5119-4963-bb39-7e9d91859819"
      },
      "execution_count": null,
      "outputs": [
        {
          "output_type": "execute_result",
          "data": {
            "text/plain": [
              "3"
            ]
          },
          "metadata": {},
          "execution_count": 13
        }
      ]
    },
    {
      "cell_type": "code",
      "source": [
        "tensor.shape"
      ],
      "metadata": {
        "colab": {
          "base_uri": "https://localhost:8080/"
        },
        "id": "AQGleq5g_cWD",
        "outputId": "415af4e8-4075-4d42-a9b6-7f0ab1e8d9a5"
      },
      "execution_count": null,
      "outputs": [
        {
          "output_type": "execute_result",
          "data": {
            "text/plain": [
              "torch.Size([2, 3, 3])"
            ]
          },
          "metadata": {},
          "execution_count": 14
        }
      ]
    },
    {
      "cell_type": "markdown",
      "source": [
        "###Random Tensors\n",
        "\n",
        "\n",
        "random tensors are important because the way many neural network learn is that they start with tensors full of random numbers and then adjust those random numbers to better represent the data\n",
        "\n",
        "start with random numners -> look at data -> update random numbers -> look at data -> update random numbers"
      ],
      "metadata": {
        "id": "5-0Lh-hUBv2Y"
      }
    },
    {
      "cell_type": "code",
      "source": [
        "# create random tensor of size(3,4)\n",
        "# Generates between 0 to 1\n",
        "random_tensor = torch.rand(2,3,4)\n",
        "random_tensor"
      ],
      "metadata": {
        "colab": {
          "base_uri": "https://localhost:8080/"
        },
        "id": "2A5XUcnD_eUh",
        "outputId": "4b09fff1-299a-4ff7-80ed-0aeb67a17c15"
      },
      "execution_count": null,
      "outputs": [
        {
          "output_type": "execute_result",
          "data": {
            "text/plain": [
              "tensor([[[0.0890, 0.3977, 0.5881, 0.9771],\n",
              "         [0.0289, 0.7406, 0.8380, 0.1209],\n",
              "         [0.8603, 0.1607, 0.8660, 0.8102]],\n",
              "\n",
              "        [[0.7580, 0.3713, 0.9112, 0.4673],\n",
              "         [0.1783, 0.0718, 0.7344, 0.6881],\n",
              "         [0.9757, 0.2428, 0.0824, 0.0550]]])"
            ]
          },
          "metadata": {},
          "execution_count": 15
        }
      ]
    },
    {
      "cell_type": "code",
      "source": [
        "random_tensor.ndim"
      ],
      "metadata": {
        "colab": {
          "base_uri": "https://localhost:8080/"
        },
        "id": "l9UxXUzXCi7I",
        "outputId": "d0a9bcc0-15f0-4c62-e04a-96071e006f24"
      },
      "execution_count": null,
      "outputs": [
        {
          "output_type": "execute_result",
          "data": {
            "text/plain": [
              "3"
            ]
          },
          "metadata": {},
          "execution_count": 16
        }
      ]
    },
    {
      "cell_type": "code",
      "source": [
        "# create a random tensor with similar shape to an image tensor\n",
        "random_image_size_tensor= torch.rand(size =(224,224,3)) # height , weight and color channel\n",
        "random_image_size_tensor.shape ,random_image_size_tensor.ndim"
      ],
      "metadata": {
        "colab": {
          "base_uri": "https://localhost:8080/"
        },
        "id": "nD71CGdlCwzN",
        "outputId": "e19c0a79-35d3-44f1-c69d-d352d8e39fa6"
      },
      "execution_count": null,
      "outputs": [
        {
          "output_type": "execute_result",
          "data": {
            "text/plain": [
              "(torch.Size([224, 224, 3]), 3)"
            ]
          },
          "metadata": {},
          "execution_count": 17
        }
      ]
    },
    {
      "cell_type": "markdown",
      "source": [
        "###Zeros and Ones"
      ],
      "metadata": {
        "id": "ynl_nD9JEOC3"
      }
    },
    {
      "cell_type": "code",
      "source": [
        "# create a tensor with all zeros\n",
        "zeros = torch.zeros(size=(3,3))\n",
        "zeros"
      ],
      "metadata": {
        "colab": {
          "base_uri": "https://localhost:8080/"
        },
        "id": "GzB12foLDdyr",
        "outputId": "c718b9b8-baed-40ab-bb22-f9e8186886ac"
      },
      "execution_count": null,
      "outputs": [
        {
          "output_type": "execute_result",
          "data": {
            "text/plain": [
              "tensor([[0., 0., 0.],\n",
              "        [0., 0., 0.],\n",
              "        [0., 0., 0.]])"
            ]
          },
          "metadata": {},
          "execution_count": 18
        }
      ]
    },
    {
      "cell_type": "code",
      "source": [
        "# create a tensor of all ones\n",
        "ones = torch.ones(size=(3,4))\n",
        "ones"
      ],
      "metadata": {
        "colab": {
          "base_uri": "https://localhost:8080/"
        },
        "id": "Y6a4OBPbEKm0",
        "outputId": "7f081d6a-7174-4440-8ef2-6e6eec3bb540"
      },
      "execution_count": null,
      "outputs": [
        {
          "output_type": "execute_result",
          "data": {
            "text/plain": [
              "tensor([[1., 1., 1., 1.],\n",
              "        [1., 1., 1., 1.],\n",
              "        [1., 1., 1., 1.]])"
            ]
          },
          "metadata": {},
          "execution_count": 19
        }
      ]
    },
    {
      "cell_type": "code",
      "source": [
        "ones.dtype"
      ],
      "metadata": {
        "colab": {
          "base_uri": "https://localhost:8080/"
        },
        "id": "--PS04hrEyxK",
        "outputId": "71f528d8-0d69-4084-e831-60465ddb2e95"
      },
      "execution_count": null,
      "outputs": [
        {
          "output_type": "execute_result",
          "data": {
            "text/plain": [
              "torch.float32"
            ]
          },
          "metadata": {},
          "execution_count": 20
        }
      ]
    },
    {
      "cell_type": "code",
      "source": [
        "zeros.dtype"
      ],
      "metadata": {
        "colab": {
          "base_uri": "https://localhost:8080/"
        },
        "id": "tQflSyR-E1rD",
        "outputId": "ada4db19-f0ed-4644-ff73-c56abeda4a94"
      },
      "execution_count": null,
      "outputs": [
        {
          "output_type": "execute_result",
          "data": {
            "text/plain": [
              "torch.float32"
            ]
          },
          "metadata": {},
          "execution_count": 21
        }
      ]
    },
    {
      "cell_type": "markdown",
      "source": [
        "###Creating a range of tensors and tensors-like"
      ],
      "metadata": {
        "id": "AAdOgLCFFW1K"
      }
    },
    {
      "cell_type": "code",
      "source": [
        "# use torch.range() and get depricated message , use torch.arange() instead\n",
        "# provide a range of i.e. start , stop and sometimes step\n",
        "one_to_ten = torch.arange(0,10,2 , dtype=torch.float32)\n",
        "one_to_ten"
      ],
      "metadata": {
        "colab": {
          "base_uri": "https://localhost:8080/"
        },
        "id": "VN8ZlPN-E7c2",
        "outputId": "bfe09353-ea03-478a-bae6-670eabc66bd9"
      },
      "execution_count": null,
      "outputs": [
        {
          "output_type": "execute_result",
          "data": {
            "text/plain": [
              "tensor([0., 2., 4., 6., 8.])"
            ]
          },
          "metadata": {},
          "execution_count": 22
        }
      ]
    },
    {
      "cell_type": "code",
      "source": [
        "# creating tensors like\n",
        "ten_zeros = torch.zeros_like(one_to_ten)\n",
        "ten_zeros"
      ],
      "metadata": {
        "colab": {
          "base_uri": "https://localhost:8080/"
        },
        "id": "_gpFGhjjFkKC",
        "outputId": "120f9e9a-98ad-4788-ac95-42930d863a95"
      },
      "execution_count": null,
      "outputs": [
        {
          "output_type": "execute_result",
          "data": {
            "text/plain": [
              "tensor([0., 0., 0., 0., 0.])"
            ]
          },
          "metadata": {},
          "execution_count": 23
        }
      ]
    },
    {
      "cell_type": "markdown",
      "source": [
        "###Tensor Datatypes\n",
        "\n",
        "**Note** tensor datatypes is one of the 3 big errors we will run into with pytorch and deep learning :\n",
        "\n",
        "1) Tensors not right datatype\n",
        "\n",
        "2) Tnesors not right shape\n",
        "\n",
        "3) tensors not on the right device"
      ],
      "metadata": {
        "id": "Deztd4N6HFeB"
      }
    },
    {
      "cell_type": "code",
      "source": [
        "# float 32 tensor\n",
        "float_32_tensor = torch.tensor([3.8,5.6,7.0],\n",
        "                               dtype = None ,\n",
        "                               device = None , # device of tensor\n",
        "                               requires_grad = False) # wheter or not to track gradients with this tensor operations\n",
        "float_32_tensor"
      ],
      "metadata": {
        "colab": {
          "base_uri": "https://localhost:8080/"
        },
        "id": "nhisQS4kF6uy",
        "outputId": "cc1833ac-b52d-4c38-cb25-4e43452b674f"
      },
      "execution_count": null,
      "outputs": [
        {
          "output_type": "execute_result",
          "data": {
            "text/plain": [
              "tensor([3.8000, 5.6000, 7.0000])"
            ]
          },
          "metadata": {},
          "execution_count": 24
        }
      ]
    },
    {
      "cell_type": "code",
      "source": [
        "float_16_tensor = float_32_tensor.type(torch.float16)\n",
        "float_16_tensor"
      ],
      "metadata": {
        "colab": {
          "base_uri": "https://localhost:8080/"
        },
        "id": "pEiWAx16IBGQ",
        "outputId": "16b19cc1-ab10-4223-93b2-98cec4595cd1"
      },
      "execution_count": null,
      "outputs": [
        {
          "output_type": "execute_result",
          "data": {
            "text/plain": [
              "tensor([3.8008, 5.6016, 7.0000], dtype=torch.float16)"
            ]
          },
          "metadata": {},
          "execution_count": 25
        }
      ]
    },
    {
      "cell_type": "code",
      "source": [
        "float_32_tensor*float_16_tensor"
      ],
      "metadata": {
        "colab": {
          "base_uri": "https://localhost:8080/"
        },
        "id": "KQavyshPJ81Z",
        "outputId": "07f15b54-ee7b-4301-8383-aa5709443909"
      },
      "execution_count": null,
      "outputs": [
        {
          "output_type": "execute_result",
          "data": {
            "text/plain": [
              "tensor([14.4430, 31.3687, 49.0000])"
            ]
          },
          "metadata": {},
          "execution_count": 26
        }
      ]
    },
    {
      "cell_type": "code",
      "source": [
        "int_32_tensor = torch.tensor([3,4,5],dtype = torch.long)\n",
        "int_32_tensor"
      ],
      "metadata": {
        "colab": {
          "base_uri": "https://localhost:8080/"
        },
        "id": "cCLJUgy5KUZK",
        "outputId": "1c81e984-205a-41a2-b790-2affb7a0c52f"
      },
      "execution_count": null,
      "outputs": [
        {
          "output_type": "execute_result",
          "data": {
            "text/plain": [
              "tensor([3, 4, 5])"
            ]
          },
          "metadata": {},
          "execution_count": 27
        }
      ]
    },
    {
      "cell_type": "code",
      "source": [
        "float_32_tensor * int_32_tensor"
      ],
      "metadata": {
        "colab": {
          "base_uri": "https://localhost:8080/"
        },
        "id": "U7lYN0D6KiZp",
        "outputId": "d0c9f4b3-26f5-41d9-95bf-7eef8baefd31"
      },
      "execution_count": null,
      "outputs": [
        {
          "output_type": "execute_result",
          "data": {
            "text/plain": [
              "tensor([11.4000, 22.4000, 35.0000])"
            ]
          },
          "metadata": {},
          "execution_count": 28
        }
      ]
    },
    {
      "cell_type": "markdown",
      "source": [
        "###Getting Information from tensors (TENSOR ATTRIBUTES)\n",
        "\n",
        "1) Tensors not right **datatype** - to get 'dtype' from a tensor use **'tensor.dtype'**\n",
        "\n",
        "2) Tnesors not right **shape** - to get shape from tensor , can use **'tensor.shape'**\n",
        "\n",
        "3) tensors not on the right device - to get device of tensor , can use **'tensor.device'**"
      ],
      "metadata": {
        "id": "luAJtB-9LCIP"
      }
    },
    {
      "cell_type": "code",
      "source": [
        "# create a tensor\n",
        "some_tensor = torch.rand(3,4)\n",
        "some_tensor"
      ],
      "metadata": {
        "colab": {
          "base_uri": "https://localhost:8080/"
        },
        "id": "on4EgFKxKpmb",
        "outputId": "9279f421-f6d4-4a49-ee2a-d7d8b5dd3a52"
      },
      "execution_count": null,
      "outputs": [
        {
          "output_type": "execute_result",
          "data": {
            "text/plain": [
              "tensor([[0.0393, 0.9803, 0.5135, 0.8474],\n",
              "        [0.6579, 0.1995, 0.3888, 0.1707],\n",
              "        [0.6169, 0.4481, 0.5220, 0.6608]])"
            ]
          },
          "metadata": {},
          "execution_count": 29
        }
      ]
    },
    {
      "cell_type": "code",
      "source": [
        "# find out details about tensor\n",
        "print(some_tensor)\n",
        "print(f\"datatype of tensor :{some_tensor.dtype}\")\n",
        "print(f\"M1 shape of tensor :{some_tensor.shape}\")\n",
        "print(f\"M2 shape of tensor :{some_tensor.size()}\")\n",
        "print(f\"device of tensor :{some_tensor.device}\")\n",
        "\n"
      ],
      "metadata": {
        "colab": {
          "base_uri": "https://localhost:8080/"
        },
        "id": "MN8_3c_FL687",
        "outputId": "50c9da55-39c6-4b1a-fa5c-e7cfdd86a30a"
      },
      "execution_count": null,
      "outputs": [
        {
          "output_type": "stream",
          "name": "stdout",
          "text": [
            "tensor([[0.0393, 0.9803, 0.5135, 0.8474],\n",
            "        [0.6579, 0.1995, 0.3888, 0.1707],\n",
            "        [0.6169, 0.4481, 0.5220, 0.6608]])\n",
            "datatype of tensor :torch.float32\n",
            "M1 shape of tensor :torch.Size([3, 4])\n",
            "M2 shape of tensor :torch.Size([3, 4])\n",
            "device of tensor :cpu\n"
          ]
        }
      ]
    },
    {
      "cell_type": "markdown",
      "source": [
        "###Manipulating Tensors (Tensor Operations)\n",
        "\n",
        "Tensor operation includes:\n",
        "\n",
        "* Addition\n",
        "* Subtraction\n",
        "* Multiplication (element wise)\n",
        "* Division\n",
        "* Matrix - Multiplication\n"
      ],
      "metadata": {
        "id": "Rk-__uq_NZwF"
      }
    },
    {
      "cell_type": "code",
      "source": [
        "# create a tensor\n",
        "tensor = torch.tensor([1,2,3])\n",
        "tensor + 10"
      ],
      "metadata": {
        "colab": {
          "base_uri": "https://localhost:8080/"
        },
        "id": "YS-OAvEyMWxR",
        "outputId": "6d79416f-a522-4029-dba5-cfcd5ffe55ce"
      },
      "execution_count": null,
      "outputs": [
        {
          "output_type": "execute_result",
          "data": {
            "text/plain": [
              "tensor([11, 12, 13])"
            ]
          },
          "metadata": {},
          "execution_count": 31
        }
      ]
    },
    {
      "cell_type": "code",
      "source": [
        "tensor = tensor * 10"
      ],
      "metadata": {
        "id": "IxetsNB8OtvQ"
      },
      "execution_count": null,
      "outputs": []
    },
    {
      "cell_type": "code",
      "source": [
        "tensor"
      ],
      "metadata": {
        "colab": {
          "base_uri": "https://localhost:8080/"
        },
        "id": "Wu6PPPloO0WF",
        "outputId": "fd4829a0-d703-42e9-9094-238cf016b634"
      },
      "execution_count": null,
      "outputs": [
        {
          "output_type": "execute_result",
          "data": {
            "text/plain": [
              "tensor([10, 20, 30])"
            ]
          },
          "metadata": {},
          "execution_count": 33
        }
      ]
    },
    {
      "cell_type": "code",
      "source": [
        "tensor/10"
      ],
      "metadata": {
        "colab": {
          "base_uri": "https://localhost:8080/"
        },
        "id": "l0P0ou7VO-aP",
        "outputId": "8fdf9337-b687-41d9-d180-44c4b9a6e4f0"
      },
      "execution_count": null,
      "outputs": [
        {
          "output_type": "execute_result",
          "data": {
            "text/plain": [
              "tensor([1., 2., 3.])"
            ]
          },
          "metadata": {},
          "execution_count": 34
        }
      ]
    },
    {
      "cell_type": "code",
      "source": [
        "tensor-1"
      ],
      "metadata": {
        "colab": {
          "base_uri": "https://localhost:8080/"
        },
        "id": "iqyq97j9O_q-",
        "outputId": "6ce1bf8a-2de7-47bf-e274-4c50a8fc8e26"
      },
      "execution_count": null,
      "outputs": [
        {
          "output_type": "execute_result",
          "data": {
            "text/plain": [
              "tensor([ 9, 19, 29])"
            ]
          },
          "metadata": {},
          "execution_count": 35
        }
      ]
    },
    {
      "cell_type": "code",
      "source": [
        "# torch innuilt function\n",
        "\n",
        "torch.mul(tensor,10)"
      ],
      "metadata": {
        "colab": {
          "base_uri": "https://localhost:8080/"
        },
        "id": "c8zqRoLyPCiq",
        "outputId": "bf7221e0-99de-4383-e076-794a855a103a"
      },
      "execution_count": null,
      "outputs": [
        {
          "output_type": "execute_result",
          "data": {
            "text/plain": [
              "tensor([100, 200, 300])"
            ]
          },
          "metadata": {},
          "execution_count": 36
        }
      ]
    },
    {
      "cell_type": "code",
      "source": [
        "torch.add(tensor,2)"
      ],
      "metadata": {
        "colab": {
          "base_uri": "https://localhost:8080/"
        },
        "id": "dpGjYiSQPQlf",
        "outputId": "b1bb375f-c4fe-41cf-d130-16925b0f3e4f"
      },
      "execution_count": null,
      "outputs": [
        {
          "output_type": "execute_result",
          "data": {
            "text/plain": [
              "tensor([12, 22, 32])"
            ]
          },
          "metadata": {},
          "execution_count": 37
        }
      ]
    },
    {
      "cell_type": "code",
      "source": [
        "torch.subtract(tensor,2)"
      ],
      "metadata": {
        "colab": {
          "base_uri": "https://localhost:8080/"
        },
        "id": "knHVqqYgPygl",
        "outputId": "c583613e-257e-476b-d73f-13d383adbfea"
      },
      "execution_count": null,
      "outputs": [
        {
          "output_type": "execute_result",
          "data": {
            "text/plain": [
              "tensor([ 8, 18, 28])"
            ]
          },
          "metadata": {},
          "execution_count": 38
        }
      ]
    },
    {
      "cell_type": "code",
      "source": [
        "torch.divide(tensor,10)"
      ],
      "metadata": {
        "colab": {
          "base_uri": "https://localhost:8080/"
        },
        "id": "0_phN5JmP2N9",
        "outputId": "42df43ef-182a-47ab-aa43-a870bcb70fd6"
      },
      "execution_count": null,
      "outputs": [
        {
          "output_type": "execute_result",
          "data": {
            "text/plain": [
              "tensor([1., 2., 3.])"
            ]
          },
          "metadata": {},
          "execution_count": 39
        }
      ]
    },
    {
      "cell_type": "markdown",
      "source": [
        "###Matrix Multiplication\n",
        "\n",
        "2 main ways of performing multplication in neural networks and deep learning :\n",
        "\n",
        "1)element-wise multiplication\n",
        "\n",
        "2)matrix multiplication(dot procuct)"
      ],
      "metadata": {
        "id": "ybOH7cSlgq-7"
      }
    },
    {
      "cell_type": "code",
      "source": [
        "# element wise multiplication\n",
        "print(tensor, \"*\",tensor)\n",
        "print(f\"equals : {tensor*tensor}\")"
      ],
      "metadata": {
        "id": "DEa83MjCP6Sq",
        "colab": {
          "base_uri": "https://localhost:8080/"
        },
        "outputId": "f1808d56-28b8-4bc3-855d-bd4b9b7fe7eb"
      },
      "execution_count": null,
      "outputs": [
        {
          "output_type": "stream",
          "name": "stdout",
          "text": [
            "tensor([10, 20, 30]) * tensor([10, 20, 30])\n",
            "equals : tensor([100, 400, 900])\n"
          ]
        }
      ]
    },
    {
      "cell_type": "code",
      "source": [
        "#matrix multiplication\n",
        "torch.matmul(tensor,tensor)"
      ],
      "metadata": {
        "colab": {
          "base_uri": "https://localhost:8080/"
        },
        "id": "bjfNNqi4hw6F",
        "outputId": "60340614-7b34-4797-82ac-e79670052f8d"
      },
      "execution_count": null,
      "outputs": [
        {
          "output_type": "execute_result",
          "data": {
            "text/plain": [
              "tensor(1400)"
            ]
          },
          "metadata": {},
          "execution_count": 41
        }
      ]
    },
    {
      "cell_type": "code",
      "source": [
        "%%time\n",
        "value = 0\n",
        "for i in range(len(tensor)):\n",
        "  value+=tensor[i] * tensor[i]\n",
        "print(value)"
      ],
      "metadata": {
        "colab": {
          "base_uri": "https://localhost:8080/"
        },
        "id": "GrUKga2mh-ro",
        "outputId": "b7aad61d-6fbf-40df-e039-078699f75b50"
      },
      "execution_count": null,
      "outputs": [
        {
          "output_type": "stream",
          "name": "stdout",
          "text": [
            "tensor(1400)\n",
            "CPU times: user 1.45 ms, sys: 72 µs, total: 1.52 ms\n",
            "Wall time: 1.53 ms\n"
          ]
        }
      ]
    },
    {
      "cell_type": "code",
      "source": [
        "%%time\n",
        "torch.matmul(tensor,tensor)"
      ],
      "metadata": {
        "colab": {
          "base_uri": "https://localhost:8080/"
        },
        "id": "M7bRc8Efijq9",
        "outputId": "a036407b-1a27-4f6d-a0d1-0031fe7cf75b"
      },
      "execution_count": null,
      "outputs": [
        {
          "output_type": "stream",
          "name": "stdout",
          "text": [
            "CPU times: user 58 µs, sys: 10 µs, total: 68 µs\n",
            "Wall time: 73 µs\n"
          ]
        },
        {
          "output_type": "execute_result",
          "data": {
            "text/plain": [
              "tensor(1400)"
            ]
          },
          "metadata": {},
          "execution_count": 43
        }
      ]
    },
    {
      "cell_type": "markdown",
      "source": [
        "##Finding min , max , sum , mean , etc(tensor aggregation)"
      ],
      "metadata": {
        "id": "yiCS-lMMj0sZ"
      }
    },
    {
      "cell_type": "code",
      "source": [
        "# create a tensor\n",
        "x = torch.arange(0,100,10)\n",
        "x,x.dtype"
      ],
      "metadata": {
        "colab": {
          "base_uri": "https://localhost:8080/"
        },
        "id": "Ahzq10IbitWa",
        "outputId": "71472cb9-be8c-48b1-bd9d-bd059b261491"
      },
      "execution_count": null,
      "outputs": [
        {
          "output_type": "execute_result",
          "data": {
            "text/plain": [
              "(tensor([ 0, 10, 20, 30, 40, 50, 60, 70, 80, 90]), torch.int64)"
            ]
          },
          "metadata": {},
          "execution_count": 44
        }
      ]
    },
    {
      "cell_type": "code",
      "source": [
        "# find min\n",
        "torch.min(x) , x.min()"
      ],
      "metadata": {
        "colab": {
          "base_uri": "https://localhost:8080/"
        },
        "id": "Xw7ZyM0kkFI2",
        "outputId": "b5668f7d-fce0-4d9a-d4ed-045d5493f577"
      },
      "execution_count": null,
      "outputs": [
        {
          "output_type": "execute_result",
          "data": {
            "text/plain": [
              "(tensor(0), tensor(0))"
            ]
          },
          "metadata": {},
          "execution_count": 45
        }
      ]
    },
    {
      "cell_type": "code",
      "source": [
        "# find max\n",
        "torch.max(x) ,x.max()"
      ],
      "metadata": {
        "colab": {
          "base_uri": "https://localhost:8080/"
        },
        "id": "7qkOiDwAkLdr",
        "outputId": "ea82f171-dfd6-462b-df3c-a989f8e3bffe"
      },
      "execution_count": null,
      "outputs": [
        {
          "output_type": "execute_result",
          "data": {
            "text/plain": [
              "(tensor(90), tensor(90))"
            ]
          },
          "metadata": {},
          "execution_count": 46
        }
      ]
    },
    {
      "cell_type": "code",
      "source": [
        "# find mean\n",
        "# NOTE  torch.mean() function requires a tensor of float 32 datatype to work\n",
        "torch.mean(x.type(torch.float32)) , x.type(torch.float32).mean()"
      ],
      "metadata": {
        "colab": {
          "base_uri": "https://localhost:8080/"
        },
        "id": "jhfclLYQkPl4",
        "outputId": "f5a90f46-71f0-4b7e-aade-430cf303de4d"
      },
      "execution_count": null,
      "outputs": [
        {
          "output_type": "execute_result",
          "data": {
            "text/plain": [
              "(tensor(45.), tensor(45.))"
            ]
          },
          "metadata": {},
          "execution_count": 47
        }
      ]
    },
    {
      "cell_type": "code",
      "source": [
        "# find the sum\n",
        "torch.sum(x),x.sum()"
      ],
      "metadata": {
        "colab": {
          "base_uri": "https://localhost:8080/"
        },
        "id": "HLEC4ZLFk5RW",
        "outputId": "9f58d039-5308-4031-8316-a5052300fc6f"
      },
      "execution_count": null,
      "outputs": [
        {
          "output_type": "execute_result",
          "data": {
            "text/plain": [
              "(tensor(450), tensor(450))"
            ]
          },
          "metadata": {},
          "execution_count": 48
        }
      ]
    },
    {
      "cell_type": "markdown",
      "source": [
        "##Finding the positional min and max"
      ],
      "metadata": {
        "id": "KKyT96NilhOM"
      }
    },
    {
      "cell_type": "code",
      "source": [
        "x"
      ],
      "metadata": {
        "colab": {
          "base_uri": "https://localhost:8080/"
        },
        "id": "O4ep3_y8lTz1",
        "outputId": "b6a16abe-dbe7-45b3-989e-06eac6fe198e"
      },
      "execution_count": null,
      "outputs": [
        {
          "output_type": "execute_result",
          "data": {
            "text/plain": [
              "tensor([ 0, 10, 20, 30, 40, 50, 60, 70, 80, 90])"
            ]
          },
          "metadata": {},
          "execution_count": 49
        }
      ]
    },
    {
      "cell_type": "code",
      "source": [
        "# find the position in tensor that has minimum value with argmin() -> returns index postion of target tensor with minimum value occurs\n",
        "x.argmin()"
      ],
      "metadata": {
        "colab": {
          "base_uri": "https://localhost:8080/"
        },
        "id": "z7qWzgnUlxaF",
        "outputId": "44e0b059-d945-40ae-a540-a94bcf64c78d"
      },
      "execution_count": null,
      "outputs": [
        {
          "output_type": "execute_result",
          "data": {
            "text/plain": [
              "tensor(0)"
            ]
          },
          "metadata": {},
          "execution_count": 50
        }
      ]
    },
    {
      "cell_type": "code",
      "source": [
        "x[0]"
      ],
      "metadata": {
        "colab": {
          "base_uri": "https://localhost:8080/"
        },
        "id": "0ruMeEqpl9H_",
        "outputId": "7735e05b-ddb5-4021-ab6b-7bb9fb66c1b2"
      },
      "execution_count": null,
      "outputs": [
        {
          "output_type": "execute_result",
          "data": {
            "text/plain": [
              "tensor(0)"
            ]
          },
          "metadata": {},
          "execution_count": 51
        }
      ]
    },
    {
      "cell_type": "code",
      "source": [
        "# find the position in tensor that has maxmimum value with argmax()\n",
        "x.argmax()"
      ],
      "metadata": {
        "colab": {
          "base_uri": "https://localhost:8080/"
        },
        "id": "AlKPNkgImCHd",
        "outputId": "b78ea4d4-5165-4380-c1fe-920d42cd5a67"
      },
      "execution_count": null,
      "outputs": [
        {
          "output_type": "execute_result",
          "data": {
            "text/plain": [
              "tensor(9)"
            ]
          },
          "metadata": {},
          "execution_count": 52
        }
      ]
    },
    {
      "cell_type": "code",
      "source": [
        "x[9]"
      ],
      "metadata": {
        "colab": {
          "base_uri": "https://localhost:8080/"
        },
        "id": "o5dDK8ynmL3E",
        "outputId": "d5d3c9b9-f0d4-4b82-a350-0ce6d4558753"
      },
      "execution_count": null,
      "outputs": [
        {
          "output_type": "execute_result",
          "data": {
            "text/plain": [
              "tensor(90)"
            ]
          },
          "metadata": {},
          "execution_count": 53
        }
      ]
    },
    {
      "cell_type": "markdown",
      "source": [
        "##Reshaping , stacking , squeezing and unsqueezing\n",
        "\n",
        "* Reshaping - reshapes and input tensor to a defined shape\n",
        "* View - return a view of an input tensor of certain shape but keep the same memeory as the original tensor\n",
        "* Stacking- combine multiple tensors on top of each other (vstack) or side by side (hstack)\n",
        "* Squeeze - removes all '1' dimensions from a tensor\n",
        "* Unsqueeze - add a '1' dimension to a target tensor\n",
        "* permute - return a view of the input with dimensions permuted(swaped) in a certain way"
      ],
      "metadata": {
        "id": "0ljwCefamhNr"
      }
    },
    {
      "cell_type": "code",
      "source": [
        "# create a tensor\n",
        "import torch\n",
        "x = torch.arange(1.,10.)\n",
        "x,x.shape"
      ],
      "metadata": {
        "colab": {
          "base_uri": "https://localhost:8080/"
        },
        "id": "zkTj1dqTmNS2",
        "outputId": "206d911b-13f6-4915-9b5a-e8864e10514e"
      },
      "execution_count": null,
      "outputs": [
        {
          "output_type": "execute_result",
          "data": {
            "text/plain": [
              "(tensor([1., 2., 3., 4., 5., 6., 7., 8., 9.]), torch.Size([9]))"
            ]
          },
          "metadata": {},
          "execution_count": 54
        }
      ]
    },
    {
      "cell_type": "code",
      "source": [
        "# add an extra dimension\n",
        "x_reshaped = x.reshape(1,9)\n",
        "x_reshaped,x_reshaped.shape"
      ],
      "metadata": {
        "colab": {
          "base_uri": "https://localhost:8080/"
        },
        "id": "lOQzoG4zoANU",
        "outputId": "30faad02-d99b-4e3e-c933-1147916df9f2"
      },
      "execution_count": null,
      "outputs": [
        {
          "output_type": "execute_result",
          "data": {
            "text/plain": [
              "(tensor([[1., 2., 3., 4., 5., 6., 7., 8., 9.]]), torch.Size([1, 9]))"
            ]
          },
          "metadata": {},
          "execution_count": 55
        }
      ]
    },
    {
      "cell_type": "code",
      "source": [
        "# change the view\n",
        "z = x.view(1,9)\n",
        "z,z.shape"
      ],
      "metadata": {
        "colab": {
          "base_uri": "https://localhost:8080/"
        },
        "id": "huwGZuyooHRH",
        "outputId": "9670b47f-7459-4962-fe6a-09e498bc2efc"
      },
      "execution_count": null,
      "outputs": [
        {
          "output_type": "execute_result",
          "data": {
            "text/plain": [
              "(tensor([[1., 2., 3., 4., 5., 6., 7., 8., 9.]]), torch.Size([1, 9]))"
            ]
          },
          "metadata": {},
          "execution_count": 56
        }
      ]
    },
    {
      "cell_type": "code",
      "source": [
        "# changing z changes x ( because view of tensor shares same memory as the original)\n",
        "z[:,0]=5\n",
        "z,x"
      ],
      "metadata": {
        "colab": {
          "base_uri": "https://localhost:8080/"
        },
        "id": "WDnOfnJ-pW0k",
        "outputId": "ee372d71-812a-4809-972f-ac72026fb670"
      },
      "execution_count": null,
      "outputs": [
        {
          "output_type": "execute_result",
          "data": {
            "text/plain": [
              "(tensor([[5., 2., 3., 4., 5., 6., 7., 8., 9.]]),\n",
              " tensor([5., 2., 3., 4., 5., 6., 7., 8., 9.]))"
            ]
          },
          "metadata": {},
          "execution_count": 57
        }
      ]
    },
    {
      "cell_type": "code",
      "source": [
        "# stack tensors on top of each other\n",
        "x_stack = torch.stack([x,x,x,x],dim=0) # dim 0 = top of each other || # dim 1 = side by side\n",
        "x_stack"
      ],
      "metadata": {
        "colab": {
          "base_uri": "https://localhost:8080/"
        },
        "id": "pkvuX_2MpkAf",
        "outputId": "96f58764-84f9-4cef-e143-3c5f01e839f7"
      },
      "execution_count": null,
      "outputs": [
        {
          "output_type": "execute_result",
          "data": {
            "text/plain": [
              "tensor([[5., 2., 3., 4., 5., 6., 7., 8., 9.],\n",
              "        [5., 2., 3., 4., 5., 6., 7., 8., 9.],\n",
              "        [5., 2., 3., 4., 5., 6., 7., 8., 9.],\n",
              "        [5., 2., 3., 4., 5., 6., 7., 8., 9.]])"
            ]
          },
          "metadata": {},
          "execution_count": 58
        }
      ]
    },
    {
      "cell_type": "code",
      "source": [
        "x_squeeze= x_reshaped.squeeze()"
      ],
      "metadata": {
        "id": "aKOMDAFpqFWl"
      },
      "execution_count": null,
      "outputs": []
    },
    {
      "cell_type": "code",
      "source": [
        "# x.unsqueeze() adds a single dimension to a target tensor at a specific dim(dimension)\n",
        "#1\n",
        "x_unsqueeze=x_squeeze.unsqueeze(dim=0)\n",
        "print(x_unsqueeze)\n",
        "print(x_unsqueeze.shape)\n",
        "#2\n",
        "x_unsqueeze=x_squeeze.unsqueeze(dim=1)\n",
        "print(x_unsqueeze)\n",
        "print(x_unsqueeze.shape)\n"
      ],
      "metadata": {
        "colab": {
          "base_uri": "https://localhost:8080/"
        },
        "id": "SuXMEa0epul1",
        "outputId": "36960c82-bb53-4943-cd7e-50131f4e715b"
      },
      "execution_count": null,
      "outputs": [
        {
          "output_type": "stream",
          "name": "stdout",
          "text": [
            "tensor([[5., 2., 3., 4., 5., 6., 7., 8., 9.]])\n",
            "torch.Size([1, 9])\n",
            "tensor([[5.],\n",
            "        [2.],\n",
            "        [3.],\n",
            "        [4.],\n",
            "        [5.],\n",
            "        [6.],\n",
            "        [7.],\n",
            "        [8.],\n",
            "        [9.]])\n",
            "torch.Size([9, 1])\n"
          ]
        }
      ]
    },
    {
      "cell_type": "code",
      "source": [
        "# torch.permute - rearranges the dimensions of a target tensor in a specified way\n",
        "x_original = torch.rand(size=(224,223,3)) #[height,width , color_channels]\n",
        "print(x_original.shape)\n",
        "x_permuted = x_original.permute(2,0,1) # shifts axis 0->1 , 1->2 , 2->0\n",
        "print(x_permuted.shape)"
      ],
      "metadata": {
        "id": "oi2gXIzLqLpV",
        "colab": {
          "base_uri": "https://localhost:8080/"
        },
        "outputId": "2bce0b06-3897-48f6-fc03-2df7b61dc528"
      },
      "execution_count": null,
      "outputs": [
        {
          "output_type": "stream",
          "name": "stdout",
          "text": [
            "torch.Size([224, 223, 3])\n",
            "torch.Size([3, 224, 223])\n"
          ]
        }
      ]
    },
    {
      "cell_type": "markdown",
      "source": [
        "##Indexing(selecting data from tensors)\n",
        "\n",
        "Indexing with PyTorch is similar to Indexing with Numpy"
      ],
      "metadata": {
        "id": "Ar9rRvYgkvaP"
      }
    },
    {
      "cell_type": "code",
      "source": [
        "# create a tensor\n",
        "import torch\n",
        "x = torch.arange(1,10).reshape(1,3,3)\n",
        "x,x.shape"
      ],
      "metadata": {
        "colab": {
          "base_uri": "https://localhost:8080/"
        },
        "id": "uYtoXyTAkMM0",
        "outputId": "da3deb4a-85e2-4416-ddbc-d552087cc4c3"
      },
      "execution_count": null,
      "outputs": [
        {
          "output_type": "execute_result",
          "data": {
            "text/plain": [
              "(tensor([[[1, 2, 3],\n",
              "          [4, 5, 6],\n",
              "          [7, 8, 9]]]),\n",
              " torch.Size([1, 3, 3]))"
            ]
          },
          "metadata": {},
          "execution_count": 79
        }
      ]
    },
    {
      "cell_type": "code",
      "source": [
        "# lets index on our tensor\n",
        "x[0]"
      ],
      "metadata": {
        "colab": {
          "base_uri": "https://localhost:8080/"
        },
        "id": "X0QT2jZwlHan",
        "outputId": "cf8bc1e4-de13-45ef-e2eb-2712358a0ebc"
      },
      "execution_count": null,
      "outputs": [
        {
          "output_type": "execute_result",
          "data": {
            "text/plain": [
              "tensor([[1, 2, 3],\n",
              "        [4, 5, 6],\n",
              "        [7, 8, 9]])"
            ]
          },
          "metadata": {},
          "execution_count": 80
        }
      ]
    },
    {
      "cell_type": "code",
      "source": [
        "# lets index on middle bracket (dim=1)\n",
        "x[0][0]"
      ],
      "metadata": {
        "colab": {
          "base_uri": "https://localhost:8080/"
        },
        "id": "f7NE7aeRlT52",
        "outputId": "3808e945-bf23-49af-eb71-70a2e725fd4a"
      },
      "execution_count": null,
      "outputs": [
        {
          "output_type": "execute_result",
          "data": {
            "text/plain": [
              "tensor([1, 2, 3])"
            ]
          },
          "metadata": {},
          "execution_count": 82
        }
      ]
    },
    {
      "cell_type": "code",
      "source": [
        "# lets index on most inner bracket(last dimension)\n",
        "x[0][0][0]"
      ],
      "metadata": {
        "colab": {
          "base_uri": "https://localhost:8080/"
        },
        "id": "sm1sLW5ilbEz",
        "outputId": "a5dbdcf6-b127-430e-8e4f-8dde917c646e"
      },
      "execution_count": null,
      "outputs": [
        {
          "output_type": "execute_result",
          "data": {
            "text/plain": [
              "tensor(1)"
            ]
          },
          "metadata": {},
          "execution_count": 87
        }
      ]
    },
    {
      "cell_type": "code",
      "source": [
        "# you can also use \":\" to select \"all\" of a target dimension\n",
        "x[:,0]"
      ],
      "metadata": {
        "colab": {
          "base_uri": "https://localhost:8080/"
        },
        "id": "GTajke4OlmQd",
        "outputId": "1a1b8457-94f0-4631-9e3c-582ed201ee44"
      },
      "execution_count": null,
      "outputs": [
        {
          "output_type": "execute_result",
          "data": {
            "text/plain": [
              "tensor([[1, 2, 3]])"
            ]
          },
          "metadata": {},
          "execution_count": 88
        }
      ]
    },
    {
      "cell_type": "code",
      "source": [
        "x[:,:,1]"
      ],
      "metadata": {
        "colab": {
          "base_uri": "https://localhost:8080/"
        },
        "id": "YlBNsTM0l--R",
        "outputId": "f04f7344-95ad-413d-f2dd-73c43d23193c"
      },
      "execution_count": null,
      "outputs": [
        {
          "output_type": "execute_result",
          "data": {
            "text/plain": [
              "tensor([[2, 5, 8]])"
            ]
          },
          "metadata": {},
          "execution_count": 89
        }
      ]
    },
    {
      "cell_type": "code",
      "source": [
        "x[:,1,1]"
      ],
      "metadata": {
        "colab": {
          "base_uri": "https://localhost:8080/"
        },
        "id": "xW21nI_2mELh",
        "outputId": "f74a1587-ecc1-4dfc-dadc-d1a889c26237"
      },
      "execution_count": null,
      "outputs": [
        {
          "output_type": "execute_result",
          "data": {
            "text/plain": [
              "5"
            ]
          },
          "metadata": {},
          "execution_count": 91
        }
      ]
    },
    {
      "cell_type": "code",
      "source": [
        "x[0,0,:]"
      ],
      "metadata": {
        "colab": {
          "base_uri": "https://localhost:8080/"
        },
        "id": "ts37sVk7mLDB",
        "outputId": "8589169b-14bb-4d62-87db-21be5a63f7c0"
      },
      "execution_count": null,
      "outputs": [
        {
          "output_type": "execute_result",
          "data": {
            "text/plain": [
              "tensor([1, 2, 3])"
            ]
          },
          "metadata": {},
          "execution_count": 92
        }
      ]
    },
    {
      "cell_type": "markdown",
      "source": [
        "##Pytorch tensors and Numpy\n",
        "\n",
        "numpy is a popular scientific python numerical computing library\n",
        "\n",
        "and because of this ,Pytorch has functionality to interact with it\n",
        "\n",
        "* Data in Numpy , want in PyTorch tensor ->` torch.from_numpy(ndarray)`\n",
        "\n",
        "* Pytorch -> Numpy ->`torch.Tensor.numpy()`"
      ],
      "metadata": {
        "id": "cnzjhqWSmmhr"
      }
    },
    {
      "cell_type": "code",
      "source": [
        "# Numpy array to tensor\n",
        "import torch\n",
        "import numpy as np\n",
        "\n",
        "array = np.arange(1.0,8.0)\n",
        "tensor = torch.from_numpy(array)\n",
        "array,tensor"
      ],
      "metadata": {
        "colab": {
          "base_uri": "https://localhost:8080/"
        },
        "id": "zZqAUnqhmYEn",
        "outputId": "e5250f7b-a34b-4aa8-ae40-58106a8c0d37"
      },
      "execution_count": null,
      "outputs": [
        {
          "output_type": "execute_result",
          "data": {
            "text/plain": [
              "(array([1., 2., 3., 4., 5., 6., 7.]),\n",
              " tensor([1., 2., 3., 4., 5., 6., 7.], dtype=torch.float64))"
            ]
          },
          "metadata": {},
          "execution_count": 93
        }
      ]
    },
    {
      "cell_type": "code",
      "source": [
        "array.dtype"
      ],
      "metadata": {
        "colab": {
          "base_uri": "https://localhost:8080/"
        },
        "id": "NbnQh_Ykottw",
        "outputId": "2cf123d1-d0d8-4891-b7b2-a6e1e4aa5407"
      },
      "execution_count": null,
      "outputs": [
        {
          "output_type": "execute_result",
          "data": {
            "text/plain": [
              "dtype('float64')"
            ]
          },
          "metadata": {},
          "execution_count": 94
        }
      ]
    },
    {
      "cell_type": "code",
      "source": [
        "tensor.dtype"
      ],
      "metadata": {
        "colab": {
          "base_uri": "https://localhost:8080/"
        },
        "id": "bWeXm_Yso0bv",
        "outputId": "a5476de2-fc03-4c95-aa40-1b0684247a7d"
      },
      "execution_count": null,
      "outputs": [
        {
          "output_type": "execute_result",
          "data": {
            "text/plain": [
              "torch.float64"
            ]
          },
          "metadata": {},
          "execution_count": 95
        }
      ]
    },
    {
      "cell_type": "code",
      "source": [
        "array = array+1\n",
        "array , tensor\n",
        "# changing the value of array does not change the value of tensor"
      ],
      "metadata": {
        "colab": {
          "base_uri": "https://localhost:8080/"
        },
        "id": "EsQwUh7Oo2gS",
        "outputId": "43ac00b1-c73c-451c-ae43-340b5381f937"
      },
      "execution_count": null,
      "outputs": [
        {
          "output_type": "execute_result",
          "data": {
            "text/plain": [
              "(array([ 4.,  5.,  6.,  7.,  8.,  9., 10.]),\n",
              " tensor([1., 2., 3., 4., 5., 6., 7.], dtype=torch.float64))"
            ]
          },
          "metadata": {},
          "execution_count": 98
        }
      ]
    },
    {
      "cell_type": "code",
      "source": [
        "# tensor to numpy\n",
        "tensor = torch.ones(7)\n",
        "numpy_tensor = tensor.numpy()\n",
        "tensor , numpy_tensor"
      ],
      "metadata": {
        "colab": {
          "base_uri": "https://localhost:8080/"
        },
        "id": "jLpxgK20pFJg",
        "outputId": "be8a3438-91ba-4e7f-873a-1af8efa8a8ac"
      },
      "execution_count": null,
      "outputs": [
        {
          "output_type": "execute_result",
          "data": {
            "text/plain": [
              "(tensor([1., 1., 1., 1., 1., 1., 1.]),\n",
              " array([1., 1., 1., 1., 1., 1., 1.], dtype=float32))"
            ]
          },
          "metadata": {},
          "execution_count": 100
        }
      ]
    },
    {
      "cell_type": "code",
      "source": [
        "# change the tensor , what happens to numpy\n",
        "tensor = tensor+1\n",
        "tensor,numpy_tensor"
      ],
      "metadata": {
        "colab": {
          "base_uri": "https://localhost:8080/"
        },
        "id": "HcVNR-cfplKq",
        "outputId": "5f03ec8d-d691-49fd-899b-0dba1fe140fe"
      },
      "execution_count": null,
      "outputs": [
        {
          "output_type": "execute_result",
          "data": {
            "text/plain": [
              "(tensor([3., 3., 3., 3., 3., 3., 3.]),\n",
              " array([1., 1., 1., 1., 1., 1., 1.], dtype=float32))"
            ]
          },
          "metadata": {},
          "execution_count": 102
        }
      ]
    },
    {
      "cell_type": "markdown",
      "source": [
        "## Reproducibility( trying to take random out of random)\n",
        "\n",
        "In short how a neural network learns:\n",
        "\n",
        "`start with random numbers -> tensor operations -> update random numbers to try and make them better representations of the data -> again->again->again...`\n",
        "\n",
        "to  reduce the randomness in a neural networks and PyTorch comes the concept of **random seed**\n",
        "\n",
        "Essentially what the random seed does is \"flavour\" the randomness"
      ],
      "metadata": {
        "id": "Q1DNZphjp3k_"
      }
    },
    {
      "cell_type": "code",
      "source": [
        "import torch\n",
        "\n",
        "# create two random tensors\n",
        "random_tensor_A= torch.rand(3,4)\n",
        "random_tensor_B = torch.rand(3,4)\n",
        "\n",
        "print(random_tensor_A)\n",
        "print(random_tensor_B)\n",
        "print(random_tensor_A==random_tensor_B)"
      ],
      "metadata": {
        "colab": {
          "base_uri": "https://localhost:8080/"
        },
        "id": "17uo8ZNWpw5W",
        "outputId": "7e90c103-0f74-4f16-f6e8-c36c10763d6b"
      },
      "execution_count": null,
      "outputs": [
        {
          "output_type": "stream",
          "name": "stdout",
          "text": [
            "tensor([[0.6558, 0.7571, 0.1343, 0.9830],\n",
            "        [0.6787, 0.2169, 0.6186, 0.0806],\n",
            "        [0.9087, 0.6900, 0.9858, 0.4696]])\n",
            "tensor([[0.0244, 0.9783, 0.5180, 0.2703],\n",
            "        [0.4237, 0.4988, 0.8049, 0.8587],\n",
            "        [0.6165, 0.0182, 0.4852, 0.2673]])\n",
            "tensor([[False, False, False, False],\n",
            "        [False, False, False, False],\n",
            "        [False, False, False, False]])\n"
          ]
        }
      ]
    },
    {
      "cell_type": "code",
      "source": [
        "# lets make some random but reproducible tensors\n",
        "import torch\n",
        "\n",
        "# set the random seed\n",
        "RANDOM_SEED = 42\n",
        "\n",
        "torch.manual_seed(RANDOM_SEED)\n",
        "random_tensor_C = torch.rand(3,4)\n",
        "\n",
        "torch.manual_seed(RANDOM_SEED)\n",
        "random_tensor_D = torch.rand(3,4)\n",
        "\n",
        "print(random_tensor_C)\n",
        "print(random_tensor_D)\n",
        "\n",
        "print(random_tensor_C==random_tensor_D)"
      ],
      "metadata": {
        "colab": {
          "base_uri": "https://localhost:8080/"
        },
        "id": "c2QYsJNcqa0d",
        "outputId": "1e12b931-a1c1-4188-89fd-257c23dc699b"
      },
      "execution_count": null,
      "outputs": [
        {
          "output_type": "stream",
          "name": "stdout",
          "text": [
            "tensor([[0.8823, 0.9150, 0.3829, 0.9593],\n",
            "        [0.3904, 0.6009, 0.2566, 0.7936],\n",
            "        [0.9408, 0.1332, 0.9346, 0.5936]])\n",
            "tensor([[0.8823, 0.9150, 0.3829, 0.9593],\n",
            "        [0.3904, 0.6009, 0.2566, 0.7936],\n",
            "        [0.9408, 0.1332, 0.9346, 0.5936]])\n",
            "tensor([[True, True, True, True],\n",
            "        [True, True, True, True],\n",
            "        [True, True, True, True]])\n"
          ]
        }
      ]
    },
    {
      "cell_type": "markdown",
      "source": [
        "##Running tensors and PyTorch objects on the GPUs (making faster computations)\n",
        "\n",
        "Getting a GPU\n",
        "\n",
        "* Easiest - use a google colab for a free GPU (Options to upgrade as well)\n",
        "\n",
        "* Use your own GPU - takes a setup and requires investment of purchasing\n",
        "\n",
        "* use clod computing - GCP,AWS,Azure,these services allow you to rent computers on cloud and acces them\n",
        "\n",
        "\n",
        "\n"
      ],
      "metadata": {
        "id": "IwlzfIDZtM7W"
      }
    },
    {
      "cell_type": "markdown",
      "source": [
        "### check for GPU acces"
      ],
      "metadata": {
        "id": "SQlII30Iukmw"
      }
    },
    {
      "cell_type": "code",
      "source": [
        "import torch\n",
        "torch.cuda.is_available()"
      ],
      "metadata": {
        "colab": {
          "base_uri": "https://localhost:8080/"
        },
        "id": "1DFS4OdGr4Ky",
        "outputId": "fc2c1e01-e352-4d2d-b09c-e9e67eea9052"
      },
      "execution_count": 1,
      "outputs": [
        {
          "output_type": "execute_result",
          "data": {
            "text/plain": [
              "True"
            ]
          },
          "metadata": {},
          "execution_count": 1
        }
      ]
    },
    {
      "cell_type": "markdown",
      "source": [
        "For PyTorch since its capable of running on the GPU or CPU , its best practice to setup device agnostic code"
      ],
      "metadata": {
        "id": "ASmkM8Bncep5"
      }
    },
    {
      "cell_type": "code",
      "source": [
        "# setup device agnostic code\n",
        "device = \"cuda\" if torch.cuda.is_available() else \"cpu\"\n",
        "device"
      ],
      "metadata": {
        "id": "7E-Xwy1tu5dC",
        "colab": {
          "base_uri": "https://localhost:8080/",
          "height": 36
        },
        "outputId": "31171146-2d1d-4e00-fbc6-0cbb6ddbc4ab"
      },
      "execution_count": 2,
      "outputs": [
        {
          "output_type": "execute_result",
          "data": {
            "text/plain": [
              "'cuda'"
            ],
            "application/vnd.google.colaboratory.intrinsic+json": {
              "type": "string"
            }
          },
          "metadata": {},
          "execution_count": 2
        }
      ]
    },
    {
      "cell_type": "code",
      "source": [
        "# count number of devices\n",
        "torch.cuda.device_count()"
      ],
      "metadata": {
        "colab": {
          "base_uri": "https://localhost:8080/"
        },
        "id": "oUGbd1mYcI1L",
        "outputId": "e0e6b37d-a386-4bd8-be49-699a5a7ee2b9"
      },
      "execution_count": 3,
      "outputs": [
        {
          "output_type": "execute_result",
          "data": {
            "text/plain": [
              "1"
            ]
          },
          "metadata": {},
          "execution_count": 3
        }
      ]
    },
    {
      "cell_type": "markdown",
      "source": [
        "###Putting tensors (and models) on GPU\n",
        "\n",
        "the reason we want our tensors/ models on GPU is because using a GPU results in Faster Compulations"
      ],
      "metadata": {
        "id": "NnMACmDudBar"
      }
    },
    {
      "cell_type": "code",
      "source": [
        "# create a tensor(default on CPU)\n",
        "tensor = torch.tensor([1,2,3] , device=\"cpu\")\n",
        "\n",
        "# tensor not on GPU\n",
        "print(tensor,tensor.device)"
      ],
      "metadata": {
        "colab": {
          "base_uri": "https://localhost:8080/"
        },
        "id": "0INKSMDmcPpc",
        "outputId": "77edcd75-a58b-48ab-ac42-d658ea705755"
      },
      "execution_count": 4,
      "outputs": [
        {
          "output_type": "stream",
          "name": "stdout",
          "text": [
            "tensor([1, 2, 3]) cpu\n"
          ]
        }
      ]
    },
    {
      "cell_type": "code",
      "source": [
        "# move tensor to GPU (if available)\n",
        "tensor_on_GPU = tensor.to(device)\n",
        "tensor_on_GPU"
      ],
      "metadata": {
        "colab": {
          "base_uri": "https://localhost:8080/"
        },
        "id": "g_sQ8AevdyR1",
        "outputId": "4514e8e7-ed67-4840-e8d4-0a4812a02a18"
      },
      "execution_count": 5,
      "outputs": [
        {
          "output_type": "execute_result",
          "data": {
            "text/plain": [
              "tensor([1, 2, 3], device='cuda:0')"
            ]
          },
          "metadata": {},
          "execution_count": 5
        }
      ]
    },
    {
      "cell_type": "markdown",
      "source": [
        "###Moving tensors back to GPU"
      ],
      "metadata": {
        "id": "QImz9a9hehXt"
      }
    },
    {
      "cell_type": "code",
      "source": [
        "# if tensor is on GPU , cant transform it into numpy\n",
        "tensor_on_GPU.numpy()"
      ],
      "metadata": {
        "colab": {
          "base_uri": "https://localhost:8080/",
          "height": 200
        },
        "id": "Pqj5znGTeSIA",
        "outputId": "41877148-39ba-410b-e02f-317c87333a0d"
      },
      "execution_count": 6,
      "outputs": [
        {
          "output_type": "error",
          "ename": "TypeError",
          "evalue": "ignored",
          "traceback": [
            "\u001b[0;31m---------------------------------------------------------------------------\u001b[0m",
            "\u001b[0;31mTypeError\u001b[0m                                 Traceback (most recent call last)",
            "\u001b[0;32m<ipython-input-6-9f2be6c2102a>\u001b[0m in \u001b[0;36m<cell line: 2>\u001b[0;34m()\u001b[0m\n\u001b[1;32m      1\u001b[0m \u001b[0;31m# if tensor is on GPU , cant transform it into numpy\u001b[0m\u001b[0;34m\u001b[0m\u001b[0;34m\u001b[0m\u001b[0m\n\u001b[0;32m----> 2\u001b[0;31m \u001b[0mtensor_on_GPU\u001b[0m\u001b[0;34m.\u001b[0m\u001b[0mnumpy\u001b[0m\u001b[0;34m(\u001b[0m\u001b[0;34m)\u001b[0m\u001b[0;34m\u001b[0m\u001b[0;34m\u001b[0m\u001b[0m\n\u001b[0m",
            "\u001b[0;31mTypeError\u001b[0m: can't convert cuda:0 device type tensor to numpy. Use Tensor.cpu() to copy the tensor to host memory first."
          ]
        }
      ]
    },
    {
      "cell_type": "code",
      "source": [
        "# to fix the GPU tensor with numpy , we can first set it to cpu\n",
        "tensor_back_on_CPU = tensor_on_GPU.cpu().numpy()\n",
        "tensor_back_on_CPU"
      ],
      "metadata": {
        "colab": {
          "base_uri": "https://localhost:8080/"
        },
        "id": "H4OPiKV1evi2",
        "outputId": "da89c705-9918-4734-dd5e-1fec7eea9ed1"
      },
      "execution_count": 7,
      "outputs": [
        {
          "output_type": "execute_result",
          "data": {
            "text/plain": [
              "array([1, 2, 3])"
            ]
          },
          "metadata": {},
          "execution_count": 7
        }
      ]
    },
    {
      "cell_type": "markdown",
      "source": [
        "##Exercises"
      ],
      "metadata": {
        "id": "g8qkl_FjhGls"
      }
    },
    {
      "cell_type": "markdown",
      "source": [
        "2)Create a random tensor with shape (7, 7)."
      ],
      "metadata": {
        "id": "pq0bemciiLiG"
      }
    },
    {
      "cell_type": "code",
      "source": [
        "import torch\n",
        "x = torch.rand(7,7)\n",
        "x"
      ],
      "metadata": {
        "colab": {
          "base_uri": "https://localhost:8080/"
        },
        "id": "OwKMV_gkhrQB",
        "outputId": "0a2f345d-164c-4f60-b00e-10ec4930cd17"
      },
      "execution_count": 9,
      "outputs": [
        {
          "output_type": "execute_result",
          "data": {
            "text/plain": [
              "tensor([[0.7579, 0.9100, 0.2020, 0.6802, 0.3940, 0.8331, 0.7387],\n",
              "        [0.7154, 0.5089, 0.6271, 0.5532, 0.4681, 0.5562, 0.3756],\n",
              "        [0.9684, 0.4249, 0.8279, 0.5606, 0.1231, 0.6517, 0.0529],\n",
              "        [0.9913, 0.4059, 0.4799, 0.8208, 0.4787, 0.7804, 0.7897],\n",
              "        [0.3248, 0.2580, 0.6236, 0.7491, 0.1521, 0.2513, 0.0596],\n",
              "        [0.4709, 0.8503, 0.1862, 0.5968, 0.4065, 0.3190, 0.8672],\n",
              "        [0.7000, 0.3037, 0.4665, 0.8574, 0.0709, 0.9646, 0.7507]])"
            ]
          },
          "metadata": {},
          "execution_count": 9
        }
      ]
    },
    {
      "cell_type": "markdown",
      "source": [
        "3)Perform a matrix multiplication on the tensor from 2 with another random tensor with shape (1, 7) (hint: you may have to transpose the second tensor)."
      ],
      "metadata": {
        "id": "8POZ7o-xiO44"
      }
    },
    {
      "cell_type": "code",
      "source": [
        "y = torch.rand(1,7)\n",
        "z = torch.matmul(x,y.T)\n",
        "z"
      ],
      "metadata": {
        "colab": {
          "base_uri": "https://localhost:8080/"
        },
        "id": "lqde4GpCh5he",
        "outputId": "984f66db-d887-47fb-add4-ffe23ce3756f"
      },
      "execution_count": 12,
      "outputs": [
        {
          "output_type": "execute_result",
          "data": {
            "text/plain": [
              "tensor([[1.4596],\n",
              "        [1.1989],\n",
              "        [1.0961],\n",
              "        [1.7189],\n",
              "        [0.6956],\n",
              "        [1.2499],\n",
              "        [1.5533]])"
            ]
          },
          "metadata": {},
          "execution_count": 12
        }
      ]
    },
    {
      "cell_type": "markdown",
      "source": [
        "4)Set the random seed to 0 and do exercises 2 & 3 over again."
      ],
      "metadata": {
        "id": "Sz7m4D_1iSaY"
      }
    },
    {
      "cell_type": "code",
      "source": [
        "Random_seed= 0\n",
        "torch.manual_seed(Random_seed)\n",
        "x = torch.rand(7,7)\n",
        "torch.manual_seed(Random_seed)\n",
        "y = torch.rand(1,7)\n",
        "z = torch.matmul(x,y.T)\n",
        "z\n"
      ],
      "metadata": {
        "colab": {
          "base_uri": "https://localhost:8080/"
        },
        "id": "uIJBIk0KiFga",
        "outputId": "9267bf54-cf6e-4dd3-a8b6-950edd93f81a"
      },
      "execution_count": 17,
      "outputs": [
        {
          "output_type": "execute_result",
          "data": {
            "text/plain": [
              "tensor([[1.5985],\n",
              "        [1.1173],\n",
              "        [1.2741],\n",
              "        [1.6838],\n",
              "        [0.8279],\n",
              "        [1.0347],\n",
              "        [1.2498]])"
            ]
          },
          "metadata": {},
          "execution_count": 17
        }
      ]
    },
    {
      "cell_type": "markdown",
      "source": [
        "5)Speaking of random seeds, we saw how to set it with torch.manual_seed() but is there a GPU equivalent? (hint: you'll need to look into the documentation for torch.cuda for this one). If there is, set the GPU random seed to 1234."
      ],
      "metadata": {
        "id": "Ok-q5yowlKVX"
      }
    },
    {
      "cell_type": "code",
      "source": [
        "torch.manual_seed(1234)\n",
        "if torch.cuda.is_available():\n",
        "  torch.cuda.manual_seed(1234)\n",
        "x = torch.rand(7,7).cuda()\n",
        "print(f\"x is {x}\")\n",
        "y = torch.rand(1,7).cuda()\n",
        "print(f\"y is {y}\")\n",
        "z = torch.matmul(x,y.T)\n",
        "print(f\" z is {z}\")\n"
      ],
      "metadata": {
        "colab": {
          "base_uri": "https://localhost:8080/"
        },
        "id": "59qmjSJdi0OJ",
        "outputId": "53c9ff6b-d947-4b43-8278-3e2394438452"
      },
      "execution_count": 21,
      "outputs": [
        {
          "output_type": "stream",
          "name": "stdout",
          "text": [
            "x is tensor([[0.0290, 0.4019, 0.2598, 0.3666, 0.0583, 0.7006, 0.0518],\n",
            "        [0.4681, 0.6738, 0.3315, 0.7837, 0.5631, 0.7749, 0.8208],\n",
            "        [0.2793, 0.6817, 0.2837, 0.6567, 0.2388, 0.7313, 0.6012],\n",
            "        [0.3043, 0.2548, 0.6294, 0.9665, 0.7399, 0.4517, 0.4757],\n",
            "        [0.7842, 0.1525, 0.6662, 0.3343, 0.7893, 0.3216, 0.5247],\n",
            "        [0.6688, 0.8436, 0.4265, 0.9561, 0.0770, 0.4108, 0.0014],\n",
            "        [0.5414, 0.6419, 0.2976, 0.7077, 0.4189, 0.0655, 0.8839]],\n",
            "       device='cuda:0')\n",
            "y is tensor([[0.8083, 0.7528, 0.8988, 0.6839, 0.7658, 0.9149, 0.3993]],\n",
            "       device='cuda:0')\n",
            " z is tensor([[1.5166],\n",
            "        [3.1874],\n",
            "        [2.5350],\n",
            "        [2.8343],\n",
            "        [2.6844],\n",
            "        [2.6483],\n",
            "        [2.4059]], device='cuda:0')\n"
          ]
        }
      ]
    },
    {
      "cell_type": "markdown",
      "source": [
        "6)Create two random tensors of shape (2, 3) and send them both to the GPU (you'll need access to a GPU for this). Set torch.manual_seed(1234) when creating the tensors (this doesn't have to be the GPU random seed)."
      ],
      "metadata": {
        "id": "bA0-rWVxlQG0"
      }
    },
    {
      "cell_type": "code",
      "source": [
        "device = \"cuda\" if torch.cuda.is_available else \"cpu\"\n",
        "torch.manual_seed(1234)\n",
        "x = torch.rand(2,3)\n",
        "x_gpu = x.to(device)\n",
        "torch.manual_seed(1234)\n",
        "y = torch.rand(2,3)\n",
        "y_gpu= y.to(device)\n",
        "x_gpu , y_gpu"
      ],
      "metadata": {
        "colab": {
          "base_uri": "https://localhost:8080/"
        },
        "id": "b6-HUxrpj9Yk",
        "outputId": "b8a89416-5365-431a-d98f-15f031b96dde"
      },
      "execution_count": 25,
      "outputs": [
        {
          "output_type": "execute_result",
          "data": {
            "text/plain": [
              "(tensor([[0.0290, 0.4019, 0.2598],\n",
              "         [0.3666, 0.0583, 0.7006]], device='cuda:0'),\n",
              " tensor([[0.0290, 0.4019, 0.2598],\n",
              "         [0.3666, 0.0583, 0.7006]], device='cuda:0'))"
            ]
          },
          "metadata": {},
          "execution_count": 25
        }
      ]
    },
    {
      "cell_type": "markdown",
      "source": [
        "7)Perform a matrix multiplication on the tensors you created in 6 (again, you may have to adjust the shapes of one of the tensors)."
      ],
      "metadata": {
        "id": "n1ey_2JvmIao"
      }
    },
    {
      "cell_type": "code",
      "source": [
        "z = torch.matmul(x_gpu,y_gpu.T)\n",
        "print(z)"
      ],
      "metadata": {
        "colab": {
          "base_uri": "https://localhost:8080/"
        },
        "id": "xMFhm6J7lvDH",
        "outputId": "78e30f19-d0e7-4143-cb24-838c727a8097"
      },
      "execution_count": 27,
      "outputs": [
        {
          "output_type": "stream",
          "name": "stdout",
          "text": [
            "tensor([[0.2299, 0.2161],\n",
            "        [0.2161, 0.6287]], device='cuda:0')\n"
          ]
        }
      ]
    },
    {
      "cell_type": "markdown",
      "source": [
        "8)Find the maximum and minimum values of the output of 7"
      ],
      "metadata": {
        "id": "yIPu7Ta2mtk9"
      }
    },
    {
      "cell_type": "code",
      "source": [
        "z.max() , torch.max(z)"
      ],
      "metadata": {
        "colab": {
          "base_uri": "https://localhost:8080/"
        },
        "id": "dWNshBNTmmPw",
        "outputId": "9bcfaddc-812e-433e-b212-8da92d4eabfd"
      },
      "execution_count": 32,
      "outputs": [
        {
          "output_type": "execute_result",
          "data": {
            "text/plain": [
              "(tensor(0.6287, device='cuda:0'), tensor(0.6287, device='cuda:0'))"
            ]
          },
          "metadata": {},
          "execution_count": 32
        }
      ]
    },
    {
      "cell_type": "code",
      "source": [
        "z.min() , torch.min(z)"
      ],
      "metadata": {
        "colab": {
          "base_uri": "https://localhost:8080/"
        },
        "id": "Cw74qIWXmy9n",
        "outputId": "9c049feb-1226-4f45-810d-f8a3ec577452"
      },
      "execution_count": 33,
      "outputs": [
        {
          "output_type": "execute_result",
          "data": {
            "text/plain": [
              "(tensor(0.2161, device='cuda:0'), tensor(0.2161, device='cuda:0'))"
            ]
          },
          "metadata": {},
          "execution_count": 33
        }
      ]
    },
    {
      "cell_type": "markdown",
      "source": [
        "9)Find the maximum and minimum index values of the output of 7."
      ],
      "metadata": {
        "id": "TaWI0-HanDri"
      }
    },
    {
      "cell_type": "code",
      "source": [
        "z.argmax() , torch.argmax(z)"
      ],
      "metadata": {
        "colab": {
          "base_uri": "https://localhost:8080/"
        },
        "id": "7Rir0f5Ym5xp",
        "outputId": "3fdf90b0-4277-4e0d-f2f3-020666f1fdfb"
      },
      "execution_count": 37,
      "outputs": [
        {
          "output_type": "execute_result",
          "data": {
            "text/plain": [
              "(tensor(3, device='cuda:0'), tensor(3, device='cuda:0'))"
            ]
          },
          "metadata": {},
          "execution_count": 37
        }
      ]
    },
    {
      "cell_type": "code",
      "source": [
        "z.argmin() , torch.argmin(z)"
      ],
      "metadata": {
        "colab": {
          "base_uri": "https://localhost:8080/"
        },
        "id": "lg3z1T6fnIhJ",
        "outputId": "99417ff4-fc3d-4e8d-b646-eeffc74f813e"
      },
      "execution_count": 38,
      "outputs": [
        {
          "output_type": "execute_result",
          "data": {
            "text/plain": [
              "(tensor(1, device='cuda:0'), tensor(1, device='cuda:0'))"
            ]
          },
          "metadata": {},
          "execution_count": 38
        }
      ]
    },
    {
      "cell_type": "markdown",
      "source": [
        "10)Make a random tensor with shape (1, 1, 1, 10) and then create a new tensor with all the 1 dimensions removed to be left with a tensor of shape (10). Set the seed to 7 when you create it and print out the first tensor and it's shape as well as the second tensor and it's shape."
      ],
      "metadata": {
        "id": "7qAN0NjMnYHd"
      }
    },
    {
      "cell_type": "code",
      "source": [
        "torch.manual_seed(7)\n",
        "x = torch.rand(1,1,1,10)\n",
        "print(f\"first tensor is {x}\")\n",
        "print(f\"shape of tensor is {x.shape}\")\n",
        "x_squeeze = x.squeeze()\n",
        "print(x_squeeze.shape)"
      ],
      "metadata": {
        "colab": {
          "base_uri": "https://localhost:8080/"
        },
        "id": "s4fhkkkfnKJa",
        "outputId": "5787a4d2-8c76-4f05-fe6f-6f9f46d2775f"
      },
      "execution_count": 41,
      "outputs": [
        {
          "output_type": "stream",
          "name": "stdout",
          "text": [
            "first tensor is tensor([[[[0.5349, 0.1988, 0.6592, 0.6569, 0.2328, 0.4251, 0.2071, 0.6297,\n",
            "           0.3653, 0.8513]]]])\n",
            "shape of tensor is torch.Size([1, 1, 1, 10])\n",
            "torch.Size([10])\n"
          ]
        }
      ]
    },
    {
      "cell_type": "code",
      "source": [],
      "metadata": {
        "id": "i_lpIBh2oMjA"
      },
      "execution_count": null,
      "outputs": []
    }
  ]
}