{
  "nbformat": 4,
  "nbformat_minor": 0,
  "metadata": {
    "colab": {
      "provenance": [],
      "authorship_tag": "ABX9TyOqdO6rhsE3CnbaXrtauPGj",
      "include_colab_link": true
    },
    "kernelspec": {
      "name": "python3",
      "display_name": "Python 3"
    },
    "language_info": {
      "name": "python"
    }
  },
  "cells": [
    {
      "cell_type": "markdown",
      "metadata": {
        "id": "view-in-github",
        "colab_type": "text"
      },
      "source": [
        "<a href=\"https://colab.research.google.com/github/Manvi1718/Pytorch/blob/main/Simple_ANN_using_NumPy.ipynb\" target=\"_parent\"><img src=\"https://colab.research.google.com/assets/colab-badge.svg\" alt=\"Open In Colab\"/></a>"
      ]
    },
    {
      "cell_type": "markdown",
      "source": [
        "#**SIMPLE ANN USING NUMPY**"
      ],
      "metadata": {
        "id": "hb4EdK_oGgUF"
      }
    },
    {
      "cell_type": "code",
      "execution_count": 1,
      "metadata": {
        "id": "5vmRArRpGA_C"
      },
      "outputs": [],
      "source": [
        "import numpy as np"
      ]
    },
    {
      "cell_type": "code",
      "source": [
        "x = np.array([\n",
        "    [1,0,0,1],\n",
        "    [0,1,1,0],\n",
        "    [1,0,1,1]\n",
        "])\n",
        "y = np.array([\n",
        "    [1],\n",
        "    [0],\n",
        "    [1]\n",
        "])"
      ],
      "metadata": {
        "id": "FuZ7edr8Gnwt"
      },
      "execution_count": 2,
      "outputs": []
    },
    {
      "cell_type": "code",
      "source": [
        "def Sigmoid(x):\n",
        "  return 1/(1+ np.exp(-x))"
      ],
      "metadata": {
        "id": "CwVooOYPHKSI"
      },
      "execution_count": 3,
      "outputs": []
    },
    {
      "cell_type": "code",
      "source": [
        "inputNeurons = x.shape[1]\n",
        "hiddenNeurons = 4\n",
        "outputNeurons = 1"
      ],
      "metadata": {
        "id": "HLaOMv4VHYu1"
      },
      "execution_count": 4,
      "outputs": []
    },
    {
      "cell_type": "code",
      "source": [
        "def derivativeSigmoid(x):\n",
        "  return x*(1-x)"
      ],
      "metadata": {
        "id": "8fMstnfbIhrl"
      },
      "execution_count": 5,
      "outputs": []
    },
    {
      "cell_type": "code",
      "source": [
        "weightHidden = np.random.uniform(size = (inputNeurons,hiddenNeurons))\n",
        "weightOutput = np.random.uniform(size = (hiddenNeurons,outputNeurons))\n",
        "biasHidden = np.random.uniform(size = (1,hiddenNeurons))\n",
        "biasOutput = np.random.uniform(size =(1,outputNeurons))"
      ],
      "metadata": {
        "id": "7dL1spspHrTV"
      },
      "execution_count": 6,
      "outputs": []
    },
    {
      "cell_type": "code",
      "source": [
        "alpha = 0.1\n",
        "epochs = 30000\n",
        "\n",
        "for i in range(epochs):\n",
        "  #FEEDFORWARD\n",
        "  fx = np.dot(x,weightHidden) + biasHidden\n",
        "  hiddenLayer = Sigmoid(fx)\n",
        "  fxo = np.dot(hiddenLayer,weightOutput) + biasOutput\n",
        "  outputLayer = Sigmoid(fxo)\n",
        "\n",
        "  #BACKPROPAGATION\n",
        "  # loss\n",
        "  # output layer\n",
        "  lossOutput = outputLayer - y\n",
        "  slopeOutput = derivativeSigmoid(outputLayer)\n",
        "  deltaOutput = lossOutput * slopeOutput\n",
        "  # hidden layer\n",
        "  lossHidden = deltaOutput.dot(weightOutput.T)\n",
        "  slopeHidden = derivativeSigmoid(hiddenLayer)\n",
        "  deltaHidden = lossHidden * slopeHidden\n",
        "\n",
        "  # optimisation\n",
        "  weightOutput = weightOutput - hiddenLayer.T.dot(deltaOutput) * alpha\n",
        "  weightHidden = weightHidden - x.T.dot(deltaHidden) *alpha\n",
        "\n",
        "  biasOutput = biasOutput - np.sum(deltaOutput) * alpha\n",
        "  biasHidden = biasHidden - np.sum(deltaHidden) * alpha\n",
        "print(\"original Y\")\n",
        "print(y)\n",
        "print(\"predicted y\")\n",
        "print(outputLayer)"
      ],
      "metadata": {
        "colab": {
          "base_uri": "https://localhost:8080/"
        },
        "id": "ooMRCuKZIx-k",
        "outputId": "71c14442-d46d-4d6a-c57f-2693a0a221b3"
      },
      "execution_count": 7,
      "outputs": [
        {
          "output_type": "stream",
          "name": "stdout",
          "text": [
            "original Y\n",
            "[[1]\n",
            " [0]\n",
            " [1]]\n",
            "predicted y\n",
            "[[0.99386112]\n",
            " [0.01321101]\n",
            " [0.99015932]]\n"
          ]
        }
      ]
    },
    {
      "cell_type": "code",
      "source": [],
      "metadata": {
        "id": "R82Rbz1jox3A"
      },
      "execution_count": 7,
      "outputs": []
    }
  ]
}